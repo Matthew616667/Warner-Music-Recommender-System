{
 "cells": [
  {
   "cell_type": "code",
   "execution_count": 4,
   "metadata": {
    "collapsed": true
   },
   "outputs": [],
   "source": [
    "import numpy as np\n",
    "import pandas as pd\n",
    "import matplotlib.pyplot as plt\n",
    "import spotipy\n",
    "import sys\n",
    "import pprint\n",
    "import warnings\n",
    "warnings.filterwarnings(\"ignore\")\n",
    "import math\n",
    "from spotipy.oauth2 import SpotifyClientCredentials\n",
    "client_credentials_manager = SpotifyClientCredentials(client_id='653cfed9a26e46dca3e3e211ded03c0f',\\\n",
    "                                                      client_secret='a14b7886714c41c383458b26434d60cc')\n",
    "sp = spotipy.Spotify(client_credentials_manager=client_credentials_manager)\n",
    "import spotipy\n",
    "import json\n",
    "import time\n",
    "import copy\n",
    "import scipy.sparse as ssp\n",
    "from collections import Counter, defaultdict\n",
    "import tqdm\n",
    "from scipy.sparse import csr_matrix\n",
    "from scipy.sparse import coo_matrix\n",
    "from scipy.stats import pearsonr\n",
    "from __future__ import print_function    \n",
    "import time\n",
    "from scipy import stats as sss\n",
    "from sklearn.ensemble import RandomForestRegressor\n",
    "from sklearn.linear_model import LinearRegression\n",
    "import xgboost as xgb\n",
    "from sklearn.linear_model import LogisticRegression\n",
    "from sklearn.metrics import mean_squared_error as mse\n",
    "from sklearn.metrics import roc_auc_score as auc\n",
    "from sklearn.model_selection import GridSearchCV\n",
    "from sklearn import svm\n",
    "from sklearn.neural_network import MLPRegressor\n",
    "import pickle\n",
    "from scipy import io\n",
    "from sklearn.preprocessing import scale\n",
    "import seaborn"
   ]
  },
  {
   "cell_type": "code",
   "execution_count": 5,
   "metadata": {
    "collapsed": true
   },
   "outputs": [],
   "source": [
    "train_df = pd.read_csv('/Users/osx/Desktop/Warner Music Dissertation/Data/train_data.csv')"
   ]
  },
  {
   "cell_type": "code",
   "execution_count": 1,
   "metadata": {},
   "outputs": [],
   "source": [
    "# train_df['track_name'].value_counts()"
   ]
  },
  {
   "cell_type": "code",
   "execution_count": null,
   "metadata": {
    "collapsed": true
   },
   "outputs": [],
   "source": [
    "train_df = train_df.drop('Unnamed: 0',axis=1)"
   ]
  },
  {
   "cell_type": "markdown",
   "metadata": {},
   "source": [
    "### Dictionary Based methods to build user_item matirx quickly, then do similarity based algorithm."
   ]
  },
  {
   "cell_type": "code",
   "execution_count": null,
   "metadata": {
    "collapsed": true
   },
   "outputs": [],
   "source": [
    "music = train_df[['customer_id','track_name']]\n",
    "music.sort_values('customer_id',inplace=True)\n",
    "\n",
    "track_set = music['track_name'].unique()\n",
    "users_, tracks = music.T.values"
   ]
  },
  {
   "cell_type": "code",
   "execution_count": null,
   "metadata": {
    "collapsed": true
   },
   "outputs": [],
   "source": [
    "user, index = np.unique(users_,True)\n",
    "user_history = np.split(tracks,index[1:])\n",
    "\n",
    "index_to_user_dict = dict(enumerate(user,start=0))\n",
    "index_to_track_id = dict(enumerate(track_set,start=0))\n",
    "\n",
    "inv_track_id_map = {v: k for k, v in index_to_track_id.items()}"
   ]
  },
  {
   "cell_type": "code",
   "execution_count": 86,
   "metadata": {
    "collapsed": true
   },
   "outputs": [],
   "source": [
    "np.save('train_user_map_17',index_to_user_dict)\n",
    "np.save('train_track_map_17',index_to_track_id)\n",
    "# np.save('inv_track_map_17',inv_track_id_map)"
   ]
  },
  {
   "cell_type": "code",
   "execution_count": 87,
   "metadata": {
    "collapsed": true
   },
   "outputs": [],
   "source": [
    "t={u:defaultdict(int) for u in user}\n",
    "\n",
    "for u,history in zip(user,user_history):\n",
    "        for song in history:\n",
    "            t[u][song]+=1"
   ]
  },
  {
   "cell_type": "code",
   "execution_count": 88,
   "metadata": {
    "collapsed": true
   },
   "outputs": [],
   "source": [
    "np.save('trainset_Dict_17',t)"
   ]
  },
  {
   "cell_type": "code",
   "execution_count": 89,
   "metadata": {},
   "outputs": [
    {
     "name": "stderr",
     "output_type": "stream",
     "text": [
      "100%|██████████| 17000/17000 [00:00<00:00, 170732.05it/s]\n"
     ]
    }
   ],
   "source": [
    "# for total tracks listened by part user \n",
    "temp_track = []\n",
    "for i in tqdm.tqdm(range(17000)):\n",
    "    temp_track.extend(list(t[index_to_user_dict[i]].keys()))\n",
    "temp_track = set(temp_track)"
   ]
  },
  {
   "cell_type": "code",
   "execution_count": 90,
   "metadata": {
    "collapsed": true
   },
   "outputs": [],
   "source": [
    "col_num = len(temp_track)"
   ]
  },
  {
   "cell_type": "code",
   "execution_count": 66,
   "metadata": {},
   "outputs": [
    {
     "data": {
      "text/plain": [
       "18419"
      ]
     },
     "execution_count": 66,
     "metadata": {},
     "output_type": "execute_result"
    }
   ],
   "source": [
    "col_num"
   ]
  },
  {
   "cell_type": "code",
   "execution_count": 11,
   "metadata": {
    "collapsed": true
   },
   "outputs": [],
   "source": [
    "# mat = sp.dok_matrix((5512072,27687 1), dtype=np.int64)\n",
    "# for i in tqdm.tqdm(range(5512072)):\n",
    "#     for j in t[index_to_user_dict[i]].keys():\n",
    "#         k = inv_track_id_map[j]\n",
    "#         mat[i,k] = t[index_to_user_dict[i]][index_to_track_id[k]] "
   ]
  },
  {
   "cell_type": "code",
   "execution_count": 92,
   "metadata": {},
   "outputs": [
    {
     "name": "stderr",
     "output_type": "stream",
     "text": [
      "100%|██████████| 17000/17000 [00:00<00:00, 17564.58it/s]\n"
     ]
    }
   ],
   "source": [
    "mat = ssp.dok_matrix((17000,col_num))\n",
    "\n",
    "for i in tqdm.tqdm(range(17000)):\n",
    "    for j in t[index_to_user_dict[i]].keys():\n",
    "        k = inv_track_id_map[j]\n",
    "        mat[i,k] = t[index_to_user_dict[i]][index_to_track_id[k]] "
   ]
  },
  {
   "cell_type": "code",
   "execution_count": 93,
   "metadata": {
    "collapsed": true
   },
   "outputs": [],
   "source": [
    "mat_csr_track = mat.transpose().tocsr()\n",
    "mat_csr_user = mat.tocsr()"
   ]
  },
  {
   "cell_type": "code",
   "execution_count": 94,
   "metadata": {
    "collapsed": true
   },
   "outputs": [],
   "source": [
    "io.mmwrite(\"user_item_17.mtx\", mat_csr_user)"
   ]
  },
  {
   "cell_type": "markdown",
   "metadata": {},
   "source": [
    "### user based similarity"
   ]
  },
  {
   "cell_type": "markdown",
   "metadata": {},
   "source": [
    "###### Cosine Similarity recommender"
   ]
  },
  {
   "cell_type": "code",
   "execution_count": 17,
   "metadata": {},
   "outputs": [
    {
     "name": "stdout",
     "output_type": "stream",
     "text": [
      "This matrix dot product finish in 0.12 seconds\n"
     ]
    }
   ],
   "source": [
    "### Original cosine similarity calculation\n",
    "start = time.time()\n",
    "prod_matrix = mat_csr_user.dot(mat_csr_track)\n",
    "delta = time.time() - start\n",
    "print (\"This matrix dot product finish in %.2f seconds\" % (delta,))"
   ]
  },
  {
   "cell_type": "code",
   "execution_count": 18,
   "metadata": {},
   "outputs": [
    {
     "name": "stderr",
     "output_type": "stream",
     "text": [
      "100%|██████████| 15000/15000 [00:00<00:00, 163900.61it/s]\n"
     ]
    }
   ],
   "source": [
    "D_dic = {}\n",
    "for i in tqdm.tqdm(range(15000)):\n",
    "    D_dic[i] = 1/math.sqrt(sum({k:pow(v,2)for k,v in t[index_to_user_dict[i]].items()}.values()))"
   ]
  },
  {
   "cell_type": "code",
   "execution_count": 19,
   "metadata": {},
   "outputs": [
    {
     "name": "stderr",
     "output_type": "stream",
     "text": [
      "100%|██████████| 15000/15000 [00:00<00:00, 105250.71it/s]\n"
     ]
    }
   ],
   "source": [
    "denom_mat = ssp.dok_matrix((15000,1))\n",
    "for i in tqdm.tqdm(range(15000)):\n",
    "    denom_mat[i,0] = D_dic[i] "
   ]
  },
  {
   "cell_type": "code",
   "execution_count": 20,
   "metadata": {},
   "outputs": [
    {
     "name": "stdout",
     "output_type": "stream",
     "text": [
      "This matrix dot product finish in 3.18 seconds\n"
     ]
    }
   ],
   "source": [
    "start = time.time()\n",
    "den_mat = denom_mat.dot(denom_mat.transpose())\n",
    "delta = time.time() - start\n",
    "print (\"This matrix dot product finish in %.2f seconds\" % (delta,))"
   ]
  },
  {
   "cell_type": "code",
   "execution_count": 21,
   "metadata": {
    "collapsed": true
   },
   "outputs": [],
   "source": [
    "cosine_user_mat = den_mat.multiply(prod_matrix)"
   ]
  },
  {
   "cell_type": "code",
   "execution_count": 28,
   "metadata": {},
   "outputs": [
    {
     "name": "stderr",
     "output_type": "stream",
     "text": [
      "100%|██████████| 15000/15000 [00:23<00:00, 627.46it/s]\n"
     ]
    }
   ],
   "source": [
    "############### create ddenominator here ################\n",
    "denominator = ssp.dok_matrix((cosine_user_mat.shape[0],1))\n",
    "\n",
    "for i in tqdm.tqdm(range(cosine_user_mat.shape[0])):\n",
    "    for j in cosine_user_mat[i,:].toarray():\n",
    "        denominator[i,0] = 1/sum(np.absolute(j))"
   ]
  },
  {
   "cell_type": "code",
   "execution_count": 34,
   "metadata": {
    "collapsed": true
   },
   "outputs": [],
   "source": [
    "pre_user = cosine_user_mat.dot(mat_csr_user)\n",
    "# pre_mat = pre_user - mat_csr_user"
   ]
  },
  {
   "cell_type": "code",
   "execution_count": 29,
   "metadata": {
    "collapsed": true
   },
   "outputs": [],
   "source": [
    "# io.mmwrite(\"user_cosine.mtx\", pre_mat)"
   ]
  },
  {
   "cell_type": "code",
   "execution_count": 21,
   "metadata": {},
   "outputs": [
    {
     "name": "stderr",
     "output_type": "stream",
     "text": [
      "100%|██████████| 15000/15000 [00:22<00:00, 663.77it/s]\n"
     ]
    }
   ],
   "source": [
    "### Do recommender ###\n",
    "recommender_c = {}\n",
    "loop_num = pre_mat.shape[0]\n",
    "for i in tqdm.tqdm(range(loop_num)):\n",
    "    b = mat_csr_user[i,:].nonzero()[1]\n",
    "    #b.sort()\n",
    "    a = np.argsort(-pre_mat[i,:].toarray()[0])\n",
    "    orin_ind = a.argsort()\n",
    "    selected_ind = orin_ind[np.searchsorted(a[orin_ind],b)]\n",
    "    a = np.delete(a,selected_ind)\n",
    "    No_1 = index_to_track_id[a[0]]\n",
    "    No_2 = index_to_track_id[a[1]]\n",
    "    No_3 = index_to_track_id[a[2]]\n",
    "    No_4 = index_to_track_id[a[3]]\n",
    "    No_5 = index_to_track_id[a[4]]\n",
    "    recommender_c[i]=[No_1,No_2,No_3,No_4,No_5]"
   ]
  },
  {
   "cell_type": "code",
   "execution_count": 22,
   "metadata": {
    "collapsed": true
   },
   "outputs": [],
   "source": [
    "# recommender_c"
   ]
  },
  {
   "cell_type": "code",
   "execution_count": 23,
   "metadata": {
    "collapsed": true
   },
   "outputs": [],
   "source": [
    "# np.save('recommender_cosine_U',recommender_c)"
   ]
  },
  {
   "cell_type": "markdown",
   "metadata": {},
   "source": [
    "###### Pearson Correlation recommender"
   ]
  },
  {
   "cell_type": "code",
   "execution_count": 33,
   "metadata": {
    "collapsed": true
   },
   "outputs": [],
   "source": [
    "# ### use installed package to calculate correlaton is quite slow even for small unique user size.(10 users for 1:16)\n",
    "# store_Pear = sp.dok_matrix((15000,15000))\n",
    "# for i in tqdm.tqdm(range(15000)):\n",
    "#     for j in range(15000):\n",
    "#         store_Pear[i,j] = pearsonr(mat_csr_user[i,:].toarray()[0],mat_csr_user[j,:].toarray()[0])[0]"
   ]
  },
  {
   "cell_type": "code",
   "execution_count": 34,
   "metadata": {
    "scrolled": false
   },
   "outputs": [
    {
     "name": "stderr",
     "output_type": "stream",
     "text": [
      "100%|██████████| 15000/15000 [00:29<00:00, 507.01it/s]\n"
     ]
    }
   ],
   "source": [
    "### So use matrix product to speed up calculation\n",
    "# Normaliztion of users listened time minues avg of itself.\n",
    "mat_csr_user_P = copy.deepcopy(mat_csr_user)\n",
    "\n",
    "for i in tqdm.tqdm(range(mat_csr_user_P.shape[0])):\n",
    "    col_ind = mat_csr_user_P[i,:].nonzero()[1]\n",
    "    avg = mat_csr_user_P[i,col_ind].mean()\n",
    "    operator = ssp.dok_matrix(mat_csr_user_P.shape,dtype=float)\n",
    "    for j in col_ind:\n",
    "        operator[i,j] = avg\n",
    "    mat_csr_user_P = mat_csr_user_P-operator.tocsr()"
   ]
  },
  {
   "cell_type": "code",
   "execution_count": 35,
   "metadata": {
    "collapsed": true
   },
   "outputs": [],
   "source": [
    "P_num_u = mat_csr_user_P.dot(mat_csr_user_P.transpose())"
   ]
  },
  {
   "cell_type": "code",
   "execution_count": 36,
   "metadata": {},
   "outputs": [
    {
     "name": "stderr",
     "output_type": "stream",
     "text": [
      "100%|██████████| 15000/15000 [00:42<00:00, 353.70it/s]\n"
     ]
    }
   ],
   "source": [
    "P_deno_u = ssp.dok_matrix((mat_csr_user_P.shape[0],1))\n",
    "# ac_deno = ssp.dok_matrix((mat_ac.shape[0],1))\n",
    "\n",
    "for i in tqdm.tqdm(range(mat_csr_user_P.shape[0])):\n",
    "    for j in mat_csr_user_P[i,:].toarray():\n",
    "        if math.sqrt(sum(j**2)) ==0:\n",
    "            P_deno_u[i,0] = 0\n",
    "        else:\n",
    "            P_deno_u[i,0] = 1/math.sqrt(sum(j**2))"
   ]
  },
  {
   "cell_type": "code",
   "execution_count": 37,
   "metadata": {
    "collapsed": true
   },
   "outputs": [],
   "source": [
    "P_deno_u = P_deno_u.tocsr()\n",
    "P_den_u = P_deno_u.dot(P_deno_u.transpose())"
   ]
  },
  {
   "cell_type": "code",
   "execution_count": 38,
   "metadata": {
    "collapsed": true
   },
   "outputs": [],
   "source": [
    "P_corr_u = P_num_u.multiply(P_den_u)\n",
    "P_predict_u = P_corr_u.dot(mat_csr_user)"
   ]
  },
  {
   "cell_type": "code",
   "execution_count": 39,
   "metadata": {
    "collapsed": true
   },
   "outputs": [],
   "source": [
    "# io.mmwrite(\"user_Pearson.mtx\", P_predict_u)"
   ]
  },
  {
   "cell_type": "code",
   "execution_count": 40,
   "metadata": {},
   "outputs": [
    {
     "name": "stderr",
     "output_type": "stream",
     "text": [
      "100%|██████████| 15000/15000 [00:22<00:00, 679.00it/s]\n"
     ]
    }
   ],
   "source": [
    "### Do recommender ###\n",
    "recommender_Pu = {}\n",
    "loop_num = P_predict_u.shape[0]\n",
    "for i in tqdm.tqdm(range(loop_num)):\n",
    "    b = mat_csr_user[i,:].nonzero()[1]\n",
    "    #b.sort()\n",
    "    a = np.argsort(-P_predict_u[i,:].toarray()[0])\n",
    "    orin_ind = a.argsort()\n",
    "    selected_ind = orin_ind[np.searchsorted(a[orin_ind],b)]\n",
    "    a = np.delete(a,selected_ind)\n",
    "    No_1 = index_to_track_id[a[0]]\n",
    "    No_2 = index_to_track_id[a[1]]\n",
    "    No_3 = index_to_track_id[a[2]]\n",
    "    No_4 = index_to_track_id[a[3]]\n",
    "    No_5 = index_to_track_id[a[4]]\n",
    "    recommender_Pu[i]=[No_1,No_2,No_3,No_4,No_5]"
   ]
  },
  {
   "cell_type": "code",
   "execution_count": 41,
   "metadata": {
    "collapsed": true
   },
   "outputs": [],
   "source": [
    "# recommender_Pu"
   ]
  },
  {
   "cell_type": "code",
   "execution_count": 42,
   "metadata": {
    "collapsed": true
   },
   "outputs": [],
   "source": [
    "# np.save('recommender_Pearson_U',recommender_Pu)"
   ]
  },
  {
   "cell_type": "markdown",
   "metadata": {
    "collapsed": true
   },
   "source": [
    "### track based similarity"
   ]
  },
  {
   "cell_type": "markdown",
   "metadata": {},
   "source": [
    "###### Cosine Similarity recommender"
   ]
  },
  {
   "cell_type": "code",
   "execution_count": 43,
   "metadata": {},
   "outputs": [
    {
     "data": {
      "text/plain": [
       "(18419, 15000)"
      ]
     },
     "execution_count": 43,
     "metadata": {},
     "output_type": "execute_result"
    }
   ],
   "source": [
    "mat_csr_track.shape"
   ]
  },
  {
   "cell_type": "code",
   "execution_count": 44,
   "metadata": {
    "collapsed": true
   },
   "outputs": [],
   "source": [
    "### Cosine similarity\n",
    "track_num = mat_csr_track.dot(mat_csr_user)"
   ]
  },
  {
   "cell_type": "code",
   "execution_count": 45,
   "metadata": {
    "scrolled": true
   },
   "outputs": [
    {
     "name": "stderr",
     "output_type": "stream",
     "text": [
      "100%|██████████| 18419/18419 [00:34<00:00, 520.25it/s]\n"
     ]
    }
   ],
   "source": [
    "track_deno = ssp.dok_matrix((mat_csr_track.shape[0],1))\n",
    "\n",
    "for i in tqdm.tqdm(range(mat_csr_track.shape[0])):\n",
    "    track_deno[i,0] = [1/math.sqrt(sum(j**2)) for j in mat_csr_track.getrow(i).toarray()]"
   ]
  },
  {
   "cell_type": "code",
   "execution_count": 46,
   "metadata": {
    "collapsed": true
   },
   "outputs": [],
   "source": [
    "track_d = track_deno.dot(track_deno.transpose())\n",
    "cosine_track_mat = track_num.multiply(track_d)\n",
    "pre_track = mat_csr_user.dot(cosine_track_mat)\n",
    "# pre_track = pre_track - mat_csr_user"
   ]
  },
  {
   "cell_type": "code",
   "execution_count": null,
   "metadata": {
    "collapsed": true
   },
   "outputs": [],
   "source": [
    "##########################################\n",
    "denominator = ssp.dok_matrix((cosine_track_mat.shape[0],1))\n",
    "\n",
    "for i in tqdm.tqdm(range(cosine_track_mat.shape[0])):\n",
    "    for j in cosine_track_mat[i,:].toarray():\n",
    "        denominator[i,0] = 1/sum(np.absolute(j))"
   ]
  },
  {
   "cell_type": "code",
   "execution_count": null,
   "metadata": {
    "collapsed": true
   },
   "outputs": [],
   "source": [
    "pre_track = pre_track.T.multiply(denominator)\n",
    "pre_track = pre_track.T"
   ]
  },
  {
   "cell_type": "code",
   "execution_count": 47,
   "metadata": {
    "collapsed": true
   },
   "outputs": [],
   "source": [
    "# io.mmwrite(\"Item_cosine.mtx\", pre_track)"
   ]
  },
  {
   "cell_type": "code",
   "execution_count": 48,
   "metadata": {},
   "outputs": [
    {
     "name": "stderr",
     "output_type": "stream",
     "text": [
      "100%|██████████| 15000/15000 [00:24<00:00, 614.34it/s]\n"
     ]
    }
   ],
   "source": [
    "### Do recommender ###\n",
    "recommender_tc = {}\n",
    "loop_num = pre_track.shape[0]\n",
    "for i in tqdm.tqdm(range(loop_num)):\n",
    "    b = mat_csr_user[i,:].nonzero()[1]\n",
    "    #b.sort()\n",
    "    a = np.argsort(-pre_track[i,:].toarray()[0])\n",
    "    orin_ind = a.argsort()\n",
    "    selected_ind = orin_ind[np.searchsorted(a[orin_ind],b)]\n",
    "    a = np.delete(a,selected_ind)\n",
    "    No_1 = index_to_track_id[a[0]]\n",
    "    No_2 = index_to_track_id[a[1]]\n",
    "    No_3 = index_to_track_id[a[2]]\n",
    "    No_4 = index_to_track_id[a[3]]\n",
    "    No_5 = index_to_track_id[a[4]]\n",
    "    recommender_tc[i]=[No_1,No_2,No_3,No_4,No_5]"
   ]
  },
  {
   "cell_type": "code",
   "execution_count": 49,
   "metadata": {
    "collapsed": true
   },
   "outputs": [],
   "source": [
    "# recommender_tc"
   ]
  },
  {
   "cell_type": "code",
   "execution_count": 50,
   "metadata": {
    "collapsed": true
   },
   "outputs": [],
   "source": [
    "# np.save('recommender_cosine_T',recommender_tc)"
   ]
  },
  {
   "cell_type": "code",
   "execution_count": 51,
   "metadata": {
    "collapsed": true
   },
   "outputs": [],
   "source": [
    "# Adjusted Cosine similarity\n",
    "# Normaliztion of users listened time minues avg of itself. mat_csr_user_P\n",
    "ac_num_t = mat_csr_user_P.transpose().dot(mat_csr_user_P)"
   ]
  },
  {
   "cell_type": "code",
   "execution_count": null,
   "metadata": {},
   "outputs": [
    {
     "name": "stderr",
     "output_type": "stream",
     "text": [
      "100%|██████████| 18419/18419 [01:00<00:00, 303.82it/s]\n"
     ]
    }
   ],
   "source": [
    "mat_ac_tt = mat_csr_user_P.transpose()\n",
    "num_t = mat_ac_tt.shape[0]\n",
    "ac_deno_t = ssp.dok_matrix((num_t,1))\n",
    "\n",
    "for i in tqdm.tqdm(range(num_t)):\n",
    "    for j in mat_ac_tt.getrow(i).toarray():\n",
    "        if math.sqrt(sum(j**2))==0:\n",
    "            ac_deno_t[i,0]=0\n",
    "        else:\n",
    "            ac_deno_t[i,0]=1/math.sqrt(sum(j**2))"
   ]
  },
  {
   "cell_type": "code",
   "execution_count": null,
   "metadata": {
    "collapsed": true
   },
   "outputs": [],
   "source": [
    "ac_den_t = ac_deno_t.dot(ac_deno_t.transpose())\n",
    "ac_sim_t = ac_num_t.multiply(ac_den_t)\n",
    "ac_predict = mat_csr_user.dot(ac_sim_t)"
   ]
  },
  {
   "cell_type": "code",
   "execution_count": null,
   "metadata": {
    "collapsed": true
   },
   "outputs": [],
   "source": [
    "# io.mmwrite(\"Item_adjusted_cosine.mtx\", ac_predict)"
   ]
  },
  {
   "cell_type": "code",
   "execution_count": null,
   "metadata": {
    "collapsed": true
   },
   "outputs": [],
   "source": [
    "### Do recommender ###\n",
    "recommender_tac = {}\n",
    "loop_num = ac_predict.shape[0]\n",
    "for i in tqdm.tqdm(range(loop_num)):\n",
    "    b = mat_csr_user[i,:].nonzero()[1]\n",
    "    #b.sort()\n",
    "    a = np.argsort(-ac_predict[i,:].toarray()[0])\n",
    "    orin_ind = a.argsort()\n",
    "    selected_ind = orin_ind[np.searchsorted(a[orin_ind],b)]\n",
    "    a = np.delete(a,selected_ind)\n",
    "    No_1 = index_to_track_id[a[0]]\n",
    "    No_2 = index_to_track_id[a[1]]\n",
    "    No_3 = index_to_track_id[a[2]]\n",
    "    No_4 = index_to_track_id[a[3]]\n",
    "    No_5 = index_to_track_id[a[4]]\n",
    "    recommender_tac[i]=[No_1,No_2,No_3,No_4,No_5]"
   ]
  },
  {
   "cell_type": "code",
   "execution_count": null,
   "metadata": {
    "collapsed": true
   },
   "outputs": [],
   "source": [
    "# recommender_tac"
   ]
  },
  {
   "cell_type": "code",
   "execution_count": null,
   "metadata": {
    "collapsed": true
   },
   "outputs": [],
   "source": [
    "# np.save('recommender_adjuested_cosine_T',recommender_tac)"
   ]
  },
  {
   "cell_type": "markdown",
   "metadata": {},
   "source": [
    "###### Pearson correlation recommender"
   ]
  },
  {
   "cell_type": "code",
   "execution_count": null,
   "metadata": {
    "collapsed": true
   },
   "outputs": [],
   "source": [
    "mat_csr_track_P = copy.deepcopy(mat_csr_track)\n",
    "\n",
    "# Normaliztion of tracks listened time minues avg of itself.\n",
    "for i in tqdm.tqdm(range(mat_csr_track_P.shape[0])):\n",
    "    non_col = mat_csr_track_P.getrow(i).nonzero()[1]\n",
    "    avg = mat_csr_track_P[i,non_col].mean()\n",
    "    operator = ssp.dok_matrix(mat_csr_track_P.shape)\n",
    "    for j in non_col:\n",
    "        operator[i,j] = avg\n",
    "    mat_csr_track_P = mat_csr_track_P-operator.tocsr()"
   ]
  },
  {
   "cell_type": "code",
   "execution_count": null,
   "metadata": {
    "collapsed": true
   },
   "outputs": [],
   "source": [
    "P_num = mat_csr_track_P.dot(mat_csr_track_P.transpose())"
   ]
  },
  {
   "cell_type": "code",
   "execution_count": null,
   "metadata": {
    "collapsed": true
   },
   "outputs": [],
   "source": [
    "Pear_deno = ssp.dok_matrix((mat_csr_track_P.shape[0],1))\n",
    "\n",
    "for i in tqdm.tqdm(range(mat_csr_track_P.shape[0])):\n",
    "    for j in mat_csr_track_P.getrow(i).toarray():\n",
    "        if math.sqrt(sum(j**2)) ==0:\n",
    "            Pear_deno[i,0] = 0\n",
    "        else:\n",
    "            Pear_deno[i,0] = 1/math.sqrt(sum(j**2)) "
   ]
  },
  {
   "cell_type": "code",
   "execution_count": null,
   "metadata": {
    "collapsed": true
   },
   "outputs": [],
   "source": [
    "Pear_deno = Pear_deno.tocsr()\n",
    "P_den = Pear_deno.dot(Pear_deno.transpose())\n",
    "Pear_corr = P_den.multiply(P_num)\n",
    "P_predict = mat_csr_user.dot(Pear_corr)"
   ]
  },
  {
   "cell_type": "code",
   "execution_count": null,
   "metadata": {
    "collapsed": true
   },
   "outputs": [],
   "source": [
    "# io.mmwrite(\"Item_Pearson.mtx\", P_predict)"
   ]
  },
  {
   "cell_type": "code",
   "execution_count": null,
   "metadata": {
    "collapsed": true
   },
   "outputs": [],
   "source": [
    "### Do recommender ###\n",
    "recommender_Pt = {}\n",
    "loop_num = P_predict.shape[0]\n",
    "for i in tqdm.tqdm(range(loop_num)):\n",
    "    b = mat_csr_user[i,:].nonzero()[1]\n",
    "    #b.sort()\n",
    "    a = np.argsort(-P_predict[i,:].toarray()[0])\n",
    "    orin_ind = a.argsort()\n",
    "    selected_ind = orin_ind[np.searchsorted(a[orin_ind],b)]\n",
    "    a = np.delete(a,selected_ind)\n",
    "    No_1 = index_to_track_id[a[0]]\n",
    "    No_2 = index_to_track_id[a[1]]\n",
    "    No_3 = index_to_track_id[a[2]]\n",
    "    No_4 = index_to_track_id[a[3]]\n",
    "    No_5 = index_to_track_id[a[4]]\n",
    "    recommender_Pt[i]=[No_1,No_2,No_3,No_4,No_5]"
   ]
  },
  {
   "cell_type": "code",
   "execution_count": null,
   "metadata": {
    "collapsed": true
   },
   "outputs": [],
   "source": [
    "# recommender_Pt"
   ]
  },
  {
   "cell_type": "code",
   "execution_count": 72,
   "metadata": {
    "collapsed": true
   },
   "outputs": [],
   "source": [
    "# np.save('recommender_Pearson_T',recommender_Pt)"
   ]
  },
  {
   "cell_type": "markdown",
   "metadata": {},
   "source": [
    "### Content-based algorithm"
   ]
  },
  {
   "cell_type": "code",
   "execution_count": 3,
   "metadata": {
    "collapsed": true
   },
   "outputs": [],
   "source": [
    "track_uni_=np.load('track_feature_1.npy').item()"
   ]
  },
  {
   "cell_type": "code",
   "execution_count": 6,
   "metadata": {
    "collapsed": true
   },
   "outputs": [],
   "source": [
    "features_of_track = ['danceability', 'energy', 'key', 'loudness', 'mode', 'speechiness',\\\n",
    "                     'acousticness', 'instrumentalness', 'liveness', 'valence','tempo',\\\n",
    "                    'duration_ms', 'time_signature']\n",
    "\n",
    "index_to_features = dict(enumerate(features_of_track,start=0))\n",
    "inv_features_map = {v: k for k, v in index_to_features.items()}"
   ]
  },
  {
   "cell_type": "code",
   "execution_count": 7,
   "metadata": {
    "collapsed": true
   },
   "outputs": [],
   "source": [
    "feature_df = pd.DataFrame.from_dict(track_uni_).T\n",
    "features_to_drop = ['analysis_url','id','track_href','type','uri']\n",
    "feature_df.drop(features_to_drop,axis=1,inplace=True)"
   ]
  },
  {
   "cell_type": "code",
   "execution_count": 8,
   "metadata": {
    "collapsed": true
   },
   "outputs": [],
   "source": [
    "for i in features_of_track:\n",
    "    feature_df[i].fillna(feature_df[i].mean(),inplace=True)\n",
    "#     feature_df[i] = (feature_df[i]-feature_df[i].mean())/feature_df[i].std()\n",
    "\n",
    "track_dict = pd.DataFrame.to_dict(feature_df.T)"
   ]
  },
  {
   "cell_type": "code",
   "execution_count": null,
   "metadata": {
    "collapsed": true
   },
   "outputs": [],
   "source": [
    "tf_mat = ssp.dok_matrix((col_num,13))\n",
    "\n",
    "for i in tqdm.tqdm(range(col_num)):\n",
    "    for j in features_of_track:\n",
    "        k = inv_features_map[j]\n",
    "        tf_mat[i,k] = track_dict[index_to_track_id[i]][j]"
   ]
  },
  {
   "cell_type": "code",
   "execution_count": null,
   "metadata": {
    "collapsed": true
   },
   "outputs": [],
   "source": [
    "content_num = tf_mat.dot(tf_mat.transpose())"
   ]
  },
  {
   "cell_type": "code",
   "execution_count": null,
   "metadata": {
    "collapsed": true
   },
   "outputs": [],
   "source": [
    "content_deno = ssp.dok_matrix((tf_mat.shape[0],1))\n",
    "\n",
    "for i in tqdm.tqdm(range(tf_mat.shape[0])):\n",
    "    for j in tf_mat.getrow(i).toarray():\n",
    "        if math.sqrt(sum(j**2)) ==0:\n",
    "            content_deno[i,0] = 0\n",
    "        else:\n",
    "            content_deno[i,0] = 1/math.sqrt(sum(j**2)) "
   ]
  },
  {
   "cell_type": "code",
   "execution_count": null,
   "metadata": {
    "collapsed": true
   },
   "outputs": [],
   "source": [
    "content_den = content_deno.dot(content_deno.transpose())\n",
    "content_cos = content_den.multiply(content_num)\n",
    "content_predict = mat_csr_user.dot(content_cos)"
   ]
  },
  {
   "cell_type": "code",
   "execution_count": null,
   "metadata": {
    "collapsed": true
   },
   "outputs": [],
   "source": [
    "io.mmwrite(\"Content_based_without_.mtx\", content_predict)"
   ]
  },
  {
   "cell_type": "code",
   "execution_count": null,
   "metadata": {
    "collapsed": true
   },
   "outputs": [],
   "source": [
    "### Do recommender ###\n",
    "recommender_CB = {}\n",
    "loop_num = content_predict.shape[0]\n",
    "for i in tqdm.tqdm(range(loop_num)):\n",
    "    b = mat_csr_user[i,:].nonzero()[1]\n",
    "    #b.sort()\n",
    "    a = np.argsort(-content_predict[i,:].toarray()[0])\n",
    "    orin_ind = a.argsort()\n",
    "    selected_ind = orin_ind[np.searchsorted(a[orin_ind],b)]\n",
    "    a = np.delete(a,selected_ind)\n",
    "    No_1 = index_to_track_id[a[0]]\n",
    "    No_2 = index_to_track_id[a[1]]\n",
    "    No_3 = index_to_track_id[a[2]]\n",
    "    No_4 = index_to_track_id[a[3]]\n",
    "    No_5 = index_to_track_id[a[4]]\n",
    "    recommender_CB[i]=[No_1,No_2,No_3,No_4,No_5]"
   ]
  },
  {
   "cell_type": "code",
   "execution_count": null,
   "metadata": {
    "collapsed": true
   },
   "outputs": [],
   "source": [
    "np.save('recommender_content_based_without_',recommender_CB)"
   ]
  },
  {
   "cell_type": "markdown",
   "metadata": {
    "collapsed": true
   },
   "source": [
    "# Combine the recommendation from similarity based algorithm with Supervised Learning algorithm"
   ]
  },
  {
   "cell_type": "markdown",
   "metadata": {},
   "source": [
    "### Generate traing set and test set"
   ]
  },
  {
   "cell_type": "code",
   "execution_count": 163,
   "metadata": {
    "scrolled": true
   },
   "outputs": [
    {
     "name": "stderr",
     "output_type": "stream",
     "text": [
      "100%|██████████| 20000/20000 [00:05<00:00, 3671.10it/s]\n"
     ]
    }
   ],
   "source": [
    "### Generate training data of the user used in user_item matrix dataframe\n",
    "\n",
    "sup_user = []\n",
    "for i in tqdm.tqdm(range(20000)):\n",
    "    sup_user.append(index_to_user_dict[i])\n",
    "\n",
    "sup_df = pd.DataFrame(sup_user)\n",
    "sup_df = sup_df.rename(columns={0:'customer_id'})\n",
    "train = pd.merge(sup_df, train_df, on=['customer_id'])\n"
   ]
  },
  {
   "cell_type": "code",
   "execution_count": 164,
   "metadata": {},
   "outputs": [
    {
     "data": {
      "text/plain": [
       "(128244, 31)"
      ]
     },
     "execution_count": 164,
     "metadata": {},
     "output_type": "execute_result"
    }
   ],
   "source": [
    "train.shape"
   ]
  },
  {
   "cell_type": "code",
   "execution_count": 165,
   "metadata": {},
   "outputs": [
    {
     "data": {
      "text/plain": [
       "(20000, 1)"
      ]
     },
     "execution_count": 165,
     "metadata": {},
     "output_type": "execute_result"
    }
   ],
   "source": [
    "sup_df.shape"
   ]
  },
  {
   "cell_type": "code",
   "execution_count": 361,
   "metadata": {},
   "outputs": [
    {
     "name": "stderr",
     "output_type": "stream",
     "text": [
      "100%|██████████| 15000/15000 [00:00<00:00, 371398.65it/s]\n"
     ]
    }
   ],
   "source": [
    "### Generate the test data of the user used in user_item matrix dataframe\n",
    "test_dc = {}\n",
    "test_dPu = {}\n",
    "test_dtc = {}\n",
    "test_dtac = {}\n",
    "test_dPt = {}\n",
    "\n",
    "for i in tqdm.tqdm(range(len(recommender_c))):\n",
    "    test_dc[index_to_user_dict[i]]=recommender_c[i]\n",
    "    test_dPu[index_to_user_dict[i]]=recommender_Pu[i]\n",
    "    test_dtc[index_to_user_dict[i]]=recommender_tc[i]\n",
    "    test_dtac[index_to_user_dict[i]]=recommender_tac[i]\n",
    "    test_dPt[index_to_user_dict[i]]=recommender_Pt[i]\n",
    "\n",
    "######################### for recommender_c #########################\n",
    "t_tc = pd.DataFrame.from_dict(test_dc,orient='index')\n",
    "\n",
    "track_c_0 = pd.DataFrame(t_tc[0]).rename(columns={0:'track'})\n",
    "track_c_1 = pd.DataFrame(t_tc[1]).rename(columns={1:'track'})\n",
    "track_c_2 = pd.DataFrame(t_tc[2]).rename(columns={2:'track'})\n",
    "track_c_3 = pd.DataFrame(t_tc[3]).rename(columns={3:'track'})\n",
    "track_c_4 = pd.DataFrame(t_tc[4]).rename(columns={4:'track'})\n",
    "\n",
    "test_c = pd.concat([track_c_0,track_c_1,track_c_2,track_c_3,track_c_4])\n",
    "\n",
    "######################### for recommender_Pu #########################\n",
    "t_tPu = pd.DataFrame.from_dict(test_dPu,orient='index')\n",
    "\n",
    "track_Pu_0 = pd.DataFrame(t_tPu[0]).rename(columns={0:'track'})\n",
    "track_Pu_1 = pd.DataFrame(t_tPu[1]).rename(columns={1:'track'})\n",
    "track_Pu_2 = pd.DataFrame(t_tPu[2]).rename(columns={2:'track'})\n",
    "track_Pu_3 = pd.DataFrame(t_tPu[3]).rename(columns={3:'track'})\n",
    "track_Pu_4 = pd.DataFrame(t_tPu[4]).rename(columns={4:'track'})\n",
    "\n",
    "test_Pu = pd.concat([track_Pu_0,track_Pu_1,track_Pu_2,track_Pu_3,track_Pu_4])\n",
    "\n",
    "######################### for recommender_tc #########################\n",
    "t_ttc = pd.DataFrame.from_dict(test_dtc,orient='index')\n",
    "\n",
    "track_tc_0 = pd.DataFrame(t_ttc[0]).rename(columns={0:'track'})\n",
    "track_tc_1 = pd.DataFrame(t_ttc[1]).rename(columns={1:'track'})\n",
    "track_tc_2 = pd.DataFrame(t_ttc[2]).rename(columns={2:'track'})\n",
    "track_tc_3 = pd.DataFrame(t_ttc[3]).rename(columns={3:'track'})\n",
    "track_tc_4 = pd.DataFrame(t_ttc[4]).rename(columns={4:'track'})\n",
    "\n",
    "test_tc = pd.concat([track_tc_0,track_tc_1,track_tc_2,track_tc_3,track_tc_4])\n",
    "\n",
    "######################### for recommender_tac #########################\n",
    "t_ttac = pd.DataFrame.from_dict(test_dtac,orient='index')\n",
    "\n",
    "track_tac_0 = pd.DataFrame(t_ttac[0]).rename(columns={0:'track'})\n",
    "track_tac_1 = pd.DataFrame(t_ttac[1]).rename(columns={1:'track'})\n",
    "track_tac_2 = pd.DataFrame(t_ttac[2]).rename(columns={2:'track'})\n",
    "track_tac_3 = pd.DataFrame(t_ttac[3]).rename(columns={3:'track'})\n",
    "track_tac_4 = pd.DataFrame(t_ttac[4]).rename(columns={4:'track'})\n",
    "\n",
    "test_tac = pd.concat([track_tac_0,track_tac_1,track_tac_2,track_tac_3,track_tac_4])\n",
    "\n",
    "######################### for recommender_Pt #########################\n",
    "t_tPt = pd.DataFrame.from_dict(test_dPt,orient='index')\n",
    "\n",
    "track_Pt_0 = pd.DataFrame(t_tPt[0]).rename(columns={0:'track'})\n",
    "track_Pt_1 = pd.DataFrame(t_tPt[1]).rename(columns={1:'track'})\n",
    "track_Pt_2 = pd.DataFrame(t_tPt[2]).rename(columns={2:'track'})\n",
    "track_Pt_3 = pd.DataFrame(t_tPt[3]).rename(columns={3:'track'})\n",
    "track_Pt_4 = pd.DataFrame(t_tPt[4]).rename(columns={4:'track'})\n",
    "\n",
    "test_Pt = pd.concat([track_Pt_0,track_Pt_1,track_Pt_2,track_Pt_3,track_Pt_4])\n"
   ]
  },
  {
   "cell_type": "code",
   "execution_count": 362,
   "metadata": {
    "collapsed": true
   },
   "outputs": [],
   "source": [
    "test = pd.concat([test_c,test_Pu,test_tc,test_tac,test_Pt])\n",
    "test.reset_index(inplace=True)\n",
    "test.rename(columns={'index':'customer_id','track':'track_name'},inplace=True)"
   ]
  },
  {
   "cell_type": "code",
   "execution_count": 16,
   "metadata": {
    "collapsed": true
   },
   "outputs": [],
   "source": [
    "# test.to_csv('raw_recommendation.csv')"
   ]
  },
  {
   "cell_type": "markdown",
   "metadata": {
    "collapsed": true
   },
   "source": [
    "### Features Engineering"
   ]
  },
  {
   "cell_type": "code",
   "execution_count": 2,
   "metadata": {},
   "outputs": [],
   "source": [
    "features_to_drop = ['day','log_time','mobile','isrc','upc','postal_code','country_code','gender',\\\n",
    "                    'filename','region_code','offline_timestamp','stream_length','referral_code',\\\n",
    "                    'partner_name','financial_product','user_product_type','stream_cached','stream_source',\\\n",
    "                    'stream_source_uri','stream_device','stream_os','track_uri','track_artists','source',\\\n",
    "                    'access','track_id']\n",
    "train = train.drop(features_to_drop,axis=1)"
   ]
  },
  {
   "cell_type": "code",
   "execution_count": 51,
   "metadata": {
    "collapsed": true
   },
   "outputs": [],
   "source": [
    "# ### decide whether several features are unique for each customer\n",
    "# temp_1 = train_df[['access','customer_id']]\n",
    "# temp_1.sort_values('customer_id',inplace=True)\n",
    "# temp_1.dropna(axis=0,how='any',inplace=True)\n",
    "\n",
    "# par_name, custo_ = temp_1.T.values\n",
    "# custo, index = np.unique(custo_,True)\n",
    "# par_set = np.split(par_name,index[1:])\n",
    "\n",
    "# i=0\n",
    "# for e in par_set:\n",
    "#     if len(set(e))>1:\n",
    "#         print(i,'one customer has multiple parnter')\n",
    "#     i=i+1"
   ]
  },
  {
   "cell_type": "code",
   "execution_count": 16,
   "metadata": {
    "collapsed": true
   },
   "outputs": [],
   "source": [
    "### Using dictionary to add ratings for training data\n",
    "hehe = {}\n",
    "for i in range(20000):\n",
    "    for j,l in t[index_to_user_dict[i]].items():\n",
    "        hehe[(index_to_user_dict[i],j)]=l"
   ]
  },
  {
   "cell_type": "code",
   "execution_count": 17,
   "metadata": {
    "collapsed": true
   },
   "outputs": [],
   "source": [
    "train.drop_duplicates(subset=['customer_id','track_name'],inplace=True)\n",
    "label_df = pd.Series(hehe).reset_index()\n",
    "label_df.rename(columns={'level_0':'customer_id','level_1':'track_name',0:'ratings'},inplace=True)\n",
    "train = pd.merge(train, label_df, on=['customer_id','track_name'])"
   ]
  },
  {
   "cell_type": "code",
   "execution_count": 61,
   "metadata": {},
   "outputs": [
    {
     "data": {
      "image/png": "[encoded data removed]",
      "text/plain": [
       "<matplotlib.figure.Figure at 0x288b7ed68>"
      ]
     },
     "metadata": {},
     "output_type": "display_data"
    }
   ],
   "source": [
    "ratings_ = label_df.ratings\n",
    "plt.hist(ratings_, bins=np.arange(1,10), alpha=0.7,align=\"left\",\\\n",
    "         normed=True,histtype=\"bar\",label=\"without log\",)\n",
    "\n",
    "plt.hist(np.log(ratings_), bins=np.arange(1,10,0.5), alpha=0.3,align=\"left\",\\\n",
    "         normed=True,histtype=\"bar\",label=\"with log\",color=\"r\")\n",
    "\n",
    "plt.xticks()\n",
    "plt.yticks(range(0,1))\n",
    "plt.title(\"Ratings distribution for each track accessed by users\")\n",
    "plt.xlabel('Rating')\n",
    "plt.ylabel('percentage')\n",
    "plt.legend()\n",
    "plt.show()"
   ]
  },
  {
   "cell_type": "code",
   "execution_count": 26,
   "metadata": {},
   "outputs": [
    {
     "data": {
      "text/plain": [
       "DescribeResult(nobs=96090, minmax=(1, 145), mean=1.3346237901966906, variance=1.4487663171644583, skewness=33.25367920374718, kurtosis=2848.6753778816346)"
      ]
     },
     "execution_count": 26,
     "metadata": {},
     "output_type": "execute_result"
    }
   ],
   "source": [
    "sss.describe(label_df.ratings)"
   ]
  },
  {
   "cell_type": "code",
   "execution_count": 69,
   "metadata": {},
   "outputs": [
    {
     "data": {
      "text/plain": [
       "DescribeResult(nobs=96090, minmax=(0.0, 4.9767337424205742), mean=0.17857433823843644, variance=0.15142376994648829, skewness=2.4498515981539826, kurtosis=7.267680217254902)"
      ]
     },
     "execution_count": 69,
     "metadata": {},
     "output_type": "execute_result"
    }
   ],
   "source": [
    "sss.describe(np.log(label_df.ratings))"
   ]
  },
  {
   "cell_type": "code",
   "execution_count": 53,
   "metadata": {
    "collapsed": true
   },
   "outputs": [],
   "source": [
    "### Using DataFrame to add label of ratings.\n",
    "# train['ratings']=0\n",
    "\n",
    "# for i in tqdm.tqdm(range(20000)):\n",
    "#     for j in t[index_to_user_dict[i]].keys():\n",
    "#         train['ratings'][train['customer_id']==index_to_user_dict[i]][train['track_name']==j]=\\\n",
    "#         t[index_to_user_dict[i]][j]\n",
    "\n",
    "#train.to_csv('train_set.csv')"
   ]
  },
  {
   "cell_type": "code",
   "execution_count": 257,
   "metadata": {},
   "outputs": [
    {
     "name": "stderr",
     "output_type": "stream",
     "text": [
      "\n",
      "  0%|          | 0/21983 [00:00<?, ?it/s]\u001b[A\n",
      "  0%|          | 1/21983 [00:00<1:29:24,  4.10it/s]\u001b[A\n",
      "  0%|          | 2/21983 [00:01<2:47:23,  2.19it/s]\u001b[A\n",
      "  0%|          | 3/21983 [00:01<2:17:43,  2.66it/s]\u001b[A\n",
      "  0%|          | 4/21983 [00:01<1:56:57,  3.13it/s]\u001b[A\n",
      "  0%|          | 5/21983 [00:01<1:40:45,  3.64it/s]\u001b[A\n",
      "  0%|          | 6/21983 [00:01<1:33:36,  3.91it/s]\u001b[A\n",
      "  0%|          | 7/21983 [00:02<1:57:16,  3.12it/s]\u001b[A\n",
      "  0%|          | 8/21983 [00:02<1:45:04,  3.49it/s]\u001b[A\n",
      "  0%|          | 9/21983 [00:02<1:39:04,  3.70it/s]\u001b[A\n",
      "  0%|          | 10/21983 [00:03<1:57:42,  3.11it/s]\u001b[A\n",
      "  0%|          | 11/21983 [00:03<1:45:36,  3.47it/s]\u001b[A\n",
      "  0%|          | 12/21983 [00:03<1:45:31,  3.47it/s]\u001b[A\n",
      "  0%|          | 13/21983 [00:04<1:37:32,  3.75it/s]\u001b[A\n",
      "  0%|          | 14/21983 [00:04<1:25:46,  4.27it/s]\u001b[A\n",
      " 19%|█▉        | 4265/21983 [17:20<54:23,  5.43it/s]  "
     ]
    },
    {
     "name": "stdout",
     "output_type": "stream",
     "text": [
      "retrying ...0secs\n",
      "retrying ...0secs\n",
      "retrying ...0secs\n"
     ]
    },
    {
     "name": "stderr",
     "output_type": "stream",
     "text": [
      "\r",
      " 19%|█▉        | 4266/21983 [17:20<1:20:32,  3.67it/s]"
     ]
    },
    {
     "name": "stdout",
     "output_type": "stream",
     "text": [
      "retrying ...0secs\n"
     ]
    },
    {
     "name": "stderr",
     "output_type": "stream",
     "text": [
      " 20%|█▉        | 4357/21983 [17:39<58:25,  5.03it/s]  "
     ]
    },
    {
     "name": "stdout",
     "output_type": "stream",
     "text": [
      "retrying ...0secs\n",
      "retrying ...0secs\n",
      "retrying ...0secs\n",
      "retrying ...0secs\n",
      "retrying ...0secs\n",
      "retrying ...0secs\n",
      "retrying ...0secs\n"
     ]
    },
    {
     "name": "stderr",
     "output_type": "stream",
     "text": [
      "\r",
      " 20%|█▉        | 4358/21983 [17:40<1:44:30,  2.81it/s]"
     ]
    },
    {
     "name": "stdout",
     "output_type": "stream",
     "text": [
      "retrying ...0secs\n"
     ]
    },
    {
     "name": "stderr",
     "output_type": "stream",
     "text": [
      " 28%|██▊       | 6098/21983 [24:39<54:38,  4.84it/s]  "
     ]
    },
    {
     "name": "stdout",
     "output_type": "stream",
     "text": [
      "retrying ...0secs\n",
      "retrying ...0secs\n",
      "retrying ...0secs\n",
      "retrying ...0secs\n",
      "retrying ...0secs\n",
      "retrying ...0secs\n",
      "retrying ...0secs\n",
      "retrying ...0secs\n",
      "retrying ...0secs\n"
     ]
    },
    {
     "name": "stderr",
     "output_type": "stream",
     "text": [
      " 55%|█████▍    | 11984/21983 [47:19<36:44,  4.54it/s]  "
     ]
    },
    {
     "name": "stdout",
     "output_type": "stream",
     "text": [
      "retrying ...0secs\n",
      "retrying ...0secs\n",
      "retrying ...0secs\n",
      "retrying ...0secs\n"
     ]
    },
    {
     "name": "stderr",
     "output_type": "stream",
     "text": [
      "\r",
      " 55%|█████▍    | 11985/21983 [47:20<53:13,  3.13it/s]"
     ]
    },
    {
     "name": "stdout",
     "output_type": "stream",
     "text": [
      "retrying ...0secs\n",
      "retrying ...0secs\n"
     ]
    },
    {
     "name": "stderr",
     "output_type": "stream",
     "text": [
      " 55%|█████▍    | 12079/21983 [47:40<28:51,  5.72it/s]  "
     ]
    },
    {
     "name": "stdout",
     "output_type": "stream",
     "text": [
      "retrying ...0secs\n",
      "retrying ...0secs\n",
      "retrying ...0secs\n",
      "retrying ...0secs\n"
     ]
    },
    {
     "name": "stderr",
     "output_type": "stream",
     "text": [
      "\r",
      " 55%|█████▍    | 12080/21983 [47:40<42:45,  3.86it/s]"
     ]
    },
    {
     "name": "stdout",
     "output_type": "stream",
     "text": [
      "retrying ...0secs\n"
     ]
    },
    {
     "name": "stderr",
     "output_type": "stream",
     "text": [
      " 55%|█████▌    | 12129/21983 [47:49<26:08,  6.28it/s]"
     ]
    },
    {
     "name": "stdout",
     "output_type": "stream",
     "text": [
      "retrying ...0secs\n",
      "retrying ...0secs\n",
      "retrying ...0secs\n",
      "retrying ...0secs\n",
      "retrying ...0secs\n",
      "retrying ...0secs\n",
      "retrying ...0secs\n",
      "retrying ...0secs\n",
      "retrying ...0secs\n",
      "retrying ...0secs\n",
      "retrying ...0secs\n",
      "retrying ...0secs\n"
     ]
    },
    {
     "name": "stderr",
     "output_type": "stream",
     "text": [
      "\r",
      " 55%|█████▌    | 12130/21983 [47:50<1:09:53,  2.35it/s]"
     ]
    },
    {
     "name": "stdout",
     "output_type": "stream",
     "text": [
      "retrying ...0secs\n"
     ]
    },
    {
     "name": "stderr",
     "output_type": "stream",
     "text": [
      " 57%|█████▋    | 12473/21983 [49:00<33:02,  4.80it/s]  "
     ]
    },
    {
     "name": "stdout",
     "output_type": "stream",
     "text": [
      "retrying ...0secs\n",
      "retrying ...0secs\n",
      "retrying ...0secs\n"
     ]
    },
    {
     "name": "stderr",
     "output_type": "stream",
     "text": [
      " 71%|███████   | 15599/21983 [1:01:19<21:28,  4.96it/s]  "
     ]
    },
    {
     "name": "stdout",
     "output_type": "stream",
     "text": [
      "retrying ...1secs\n"
     ]
    },
    {
     "name": "stderr",
     "output_type": "stream",
     "text": [
      " 73%|███████▎  | 15983/21983 [1:02:50<16:52,  5.93it/s]  "
     ]
    },
    {
     "name": "stdout",
     "output_type": "stream",
     "text": [
      "retrying ...0secs\n",
      "retrying ...0secs\n",
      "retrying ...0secs\n",
      "retrying ...0secs\n"
     ]
    },
    {
     "name": "stderr",
     "output_type": "stream",
     "text": [
      " 76%|███████▌  | 16700/21983 [1:05:29<16:14,  5.42it/s]"
     ]
    },
    {
     "name": "stdout",
     "output_type": "stream",
     "text": [
      "retrying ...0secs\n",
      "retrying ...0secs\n",
      "retrying ...0secs\n",
      "retrying ...0secs\n",
      "retrying ...0secs\n",
      "retrying ...0secs\n",
      "retrying ...0secs\n",
      "retrying ...0secs\n"
     ]
    },
    {
     "name": "stderr",
     "output_type": "stream",
     "text": [
      "\r",
      " 76%|███████▌  | 16701/21983 [1:05:30<31:30,  2.79it/s]"
     ]
    },
    {
     "name": "stdout",
     "output_type": "stream",
     "text": [
      "retrying ...0secs\n"
     ]
    },
    {
     "name": "stderr",
     "output_type": "stream",
     "text": [
      " 80%|███████▉  | 17495/21983 [1:08:40<15:23,  4.86it/s]"
     ]
    },
    {
     "name": "stdout",
     "output_type": "stream",
     "text": [
      "retrying ...0secs\n"
     ]
    },
    {
     "name": "stderr",
     "output_type": "stream",
     "text": [
      " 85%|████████▍ | 18676/21983 [1:13:00<12:21,  4.46it/s]"
     ]
    },
    {
     "name": "stdout",
     "output_type": "stream",
     "text": [
      "retrying ...0secs\n"
     ]
    },
    {
     "name": "stderr",
     "output_type": "stream",
     "text": [
      " 86%|████████▌ | 18814/21983 [1:13:30<14:02,  3.76it/s]"
     ]
    },
    {
     "name": "stdout",
     "output_type": "stream",
     "text": [
      "retrying ...0secs\n",
      "retrying ...0secs\n",
      "retrying ...0secs\n"
     ]
    },
    {
     "name": "stderr",
     "output_type": "stream",
     "text": [
      " 91%|█████████ | 19901/21983 [1:17:35<06:58,  4.98it/s]"
     ]
    },
    {
     "name": "stdout",
     "output_type": "stream",
     "text": [
      "retrying ...1secs\n"
     ]
    },
    {
     "name": "stderr",
     "output_type": "stream",
     "text": [
      "100%|██████████| 21983/21983 [1:25:30<00:00,  4.73it/s]\n"
     ]
    }
   ],
   "source": [
    "track_uni_ = {}\n",
    "track_uni = train['track_name'].unique()\n",
    "sp.trace=False\n",
    "for track in tqdm.tqdm(track_uni):\n",
    "    features = {}\n",
    "    for i in range(100):\n",
    "        results = sp.search(q=track, limit=50)\n",
    "        if (results!=None):\n",
    "            break\n",
    "        if(i==99):\n",
    "            print('Unable to obtain a meaningful result!')\n",
    "#     tids = []\n",
    "    for j in range(100):\n",
    "        try:\n",
    "            for i, t in enumerate(results['tracks']['items']):\n",
    "                if t['name']==track:\n",
    "                    tids=t['uri']\n",
    "            break\n",
    "        except:\n",
    "            continue\n",
    "        \n",
    "    while(1):\n",
    "        try:\n",
    "            features = sp.audio_features(tids)[0] ### get features\n",
    "            track_uni_[track]=features\n",
    "            break\n",
    "        except:\n",
    "            continue\n",
    "    "
   ]
  },
  {
   "cell_type": "code",
   "execution_count": 118,
   "metadata": {
    "collapsed": true
   },
   "outputs": [],
   "source": [
    "# np.save('track_feature_1',track_uni_)"
   ]
  },
  {
   "cell_type": "code",
   "execution_count": 3,
   "metadata": {
    "collapsed": true
   },
   "outputs": [],
   "source": [
    "track_uni_=np.load('track_feature_1.npy').item()"
   ]
  },
  {
   "cell_type": "code",
   "execution_count": 3,
   "metadata": {},
   "outputs": [],
   "source": [
    "song_feature = pd.DataFrame(track_uni_).T\n",
    "\n",
    "features_to_drop = ['analysis_url','id','track_href','type','uri']\n",
    "song_feature = song_feature.drop(features_to_drop,axis=1).astype(float)\n",
    "song_feature.reset_index(inplace=True)\n",
    "song_feature.rename(columns={'index':'track_name'},inplace=True)\n",
    "\n",
    "train = pd.merge(train, song_feature, on=['track_name'])"
   ]
  },
  {
   "cell_type": "code",
   "execution_count": 172,
   "metadata": {},
   "outputs": [
    {
     "data": {
      "text/plain": [
       "True"
      ]
     },
     "execution_count": 172,
     "metadata": {},
     "output_type": "execute_result"
    }
   ],
   "source": [
    "np.any(train['birth_year'].isnull()==True)"
   ]
  },
  {
   "cell_type": "code",
   "execution_count": 174,
   "metadata": {
    "collapsed": true
   },
   "outputs": [],
   "source": [
    "train['birth_year'] = train['birth_year'].astype(float)"
   ]
  },
  {
   "cell_type": "code",
   "execution_count": 175,
   "metadata": {},
   "outputs": [
    {
     "data": {
      "text/html": [
       "<div>\n",
       "<table border=\"1\" class=\"dataframe\">\n",
       "  <thead>\n",
       "    <tr style=\"text-align: right;\">\n",
       "      <th></th>\n",
       "      <th>birthe_year</th>\n",
       "    </tr>\n",
       "  </thead>\n",
       "  <tbody>\n",
       "    <tr>\n",
       "      <th>nobs</th>\n",
       "      <td>95105</td>\n",
       "    </tr>\n",
       "    <tr>\n",
       "      <th>min-max</th>\n",
       "      <td>(1900.0, 2008.0)</td>\n",
       "    </tr>\n",
       "    <tr>\n",
       "      <th>mean</th>\n",
       "      <td>1985.53</td>\n",
       "    </tr>\n",
       "    <tr>\n",
       "      <th>variance</th>\n",
       "      <td>149.117</td>\n",
       "    </tr>\n",
       "    <tr>\n",
       "      <th>skewness</th>\n",
       "      <td>-1.52839</td>\n",
       "    </tr>\n",
       "    <tr>\n",
       "      <th>kurtosis</th>\n",
       "      <td>3.78622</td>\n",
       "    </tr>\n",
       "  </tbody>\n",
       "</table>\n",
       "</div>"
      ],
      "text/plain": [
       "               birthe_year\n",
       "nobs                 95105\n",
       "min-max   (1900.0, 2008.0)\n",
       "mean               1985.53\n",
       "variance           149.117\n",
       "skewness          -1.52839\n",
       "kurtosis           3.78622"
      ]
     },
     "execution_count": 175,
     "metadata": {},
     "output_type": "execute_result"
    }
   ],
   "source": [
    "pd.DataFrame({'birthe_year':list(sss.describe(train['birth_year'].dropna()))},\\\n",
    "             index=[\"nobs\",\"min-max\",\"mean\",\"variance\",\"skewness\",\"kurtosis\"])"
   ]
  },
  {
   "cell_type": "code",
   "execution_count": 176,
   "metadata": {
    "collapsed": true
   },
   "outputs": [],
   "source": [
    "train['birth_year'].fillna(1993,inplace=True)\n",
    "train['birth_year'] = train['birth_year'].map(lambda x : round(x))"
   ]
  },
  {
   "cell_type": "code",
   "execution_count": null,
   "metadata": {
    "collapsed": true
   },
   "outputs": [],
   "source": [
    "need_fill = ['acousticness', 'danceability','duration_ms', 'energy', 'instrumentalness', 'key', 'liveness',\\\n",
    "             'loudness', 'mode', 'speechiness', 'tempo', 'time_signature', 'valence']\n",
    "for i in need_fill:\n",
    "    train[i].fillna(train[i].mode(),inpalce=True)"
   ]
  },
  {
   "cell_type": "code",
   "execution_count": 359,
   "metadata": {
    "collapsed": true
   },
   "outputs": [],
   "source": [
    "# train.to_csv('train_supervised.csv')"
   ]
  },
  {
   "cell_type": "code",
   "execution_count": 2,
   "metadata": {
    "collapsed": true
   },
   "outputs": [],
   "source": [
    "# #read\n",
    "train = pd.read_csv('/Users/osx/Desktop/Warner Music Dissertation/Code/train_supervised.csv')\n",
    "train = train.drop('Unnamed: 0',axis=1)"
   ]
  },
  {
   "cell_type": "code",
   "execution_count": 3,
   "metadata": {
    "collapsed": true
   },
   "outputs": [],
   "source": [
    "y_label = train['ratings']\n",
    "x_input = train.drop('ratings',axis=1)\n",
    "x_user = x_input.drop('customer_id',axis=1)"
   ]
  },
  {
   "cell_type": "code",
   "execution_count": 364,
   "metadata": {
    "collapsed": true
   },
   "outputs": [],
   "source": [
    "### final test dataframe ###\n",
    "test = pd.merge(test,song_feature,on=['track_name']) # Add features of track columns\n",
    "test = pd.merge(test,x_input[['customer_id','birth_year']].drop_duplicates(subset=['customer_id']), on=['customer_id'])\n",
    "test = pd.merge(test,x_input[['track_name','artist_name','album_name']].drop_duplicates(subset=['track_name']),\\\n",
    "                            on=['track_name'])"
   ]
  },
  {
   "cell_type": "code",
   "execution_count": null,
   "metadata": {
    "collapsed": true
   },
   "outputs": [],
   "source": [
    "need_fill = ['acousticness', 'danceability','duration_ms', 'energy', 'instrumentalness', 'key', 'liveness',\\\n",
    "             'loudness', 'mode', 'speechiness', 'tempo', 'time_signature', 'valence']\n",
    "for i in need_fill:\n",
    "    test[i].fillna(test[i].mode(),inpalce=True)"
   ]
  },
  {
   "cell_type": "code",
   "execution_count": 430,
   "metadata": {
    "collapsed": true
   },
   "outputs": [],
   "source": [
    "# test.to_csv('test_supervised.csv')"
   ]
  },
  {
   "cell_type": "code",
   "execution_count": 2,
   "metadata": {
    "collapsed": true
   },
   "outputs": [],
   "source": [
    "# #read\n",
    "test = pd.read_csv('/Users/osx/Desktop/Warner Music Dissertation/Code/test_supervised.csv')\n",
    "test = test.drop(['Unnamed: 0','customer_id'],axis=1)"
   ]
  },
  {
   "cell_type": "code",
   "execution_count": 7,
   "metadata": {},
   "outputs": [
    {
     "data": {
      "text/plain": [
       "False"
      ]
     },
     "execution_count": 7,
     "metadata": {},
     "output_type": "execute_result"
    }
   ],
   "source": [
    "np.any(train.isnull()==True)"
   ]
  },
  {
   "cell_type": "code",
   "execution_count": 13,
   "metadata": {
    "collapsed": true
   },
   "outputs": [],
   "source": [
    "dummied_x = pd.get_dummies(x_input)"
   ]
  },
  {
   "cell_type": "code",
   "execution_count": 3,
   "metadata": {
    "collapsed": true
   },
   "outputs": [],
   "source": [
    "dummied_test = pd.get_dummies(test)"
   ]
  }
 ],
 "metadata": {
  "kernelspec": {
   "display_name": "Python 3",
   "language": "python",
   "name": "python3"
  },
  "language_info": {
   "codemirror_mode": {
    "name": "ipython",
    "version": 3
   },
   "file_extension": ".py",
   "mimetype": "text/x-python",
   "name": "python",
   "nbconvert_exporter": "python",
   "pygments_lexer": "ipython3",
   "version": "3.6.1"
  }
 },
 "nbformat": 4,
 "nbformat_minor": 2
}
