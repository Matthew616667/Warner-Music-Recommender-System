{
 "cells": [
  {
   "cell_type": "code",
   "execution_count": 1,
   "metadata": {
    "collapsed": true
   },
   "outputs": [],
   "source": [
    "import numpy as np\n",
    "import pandas as pd\n",
    "import matplotlib.pyplot as plt\n",
    "import spotipy\n",
    "import sys\n",
    "import pprint\n",
    "import warnings\n",
    "warnings.filterwarnings(\"ignore\")\n",
    "import math\n",
    "from spotipy.oauth2 import SpotifyClientCredentials\n",
    "client_credentials_manager = SpotifyClientCredentials(client_id='653cfed9a26e46dca3e3e211ded03c0f',\\\n",
    "                                                      client_secret='a14b7886714c41c383458b26434d60cc')\n",
    "sp = spotipy.Spotify(client_credentials_manager=client_credentials_manager)\n",
    "import spotipy\n",
    "import json\n",
    "import time\n",
    "import copy\n",
    "import scipy.sparse as ssp\n",
    "from collections import Counter, defaultdict\n",
    "import tqdm\n",
    "from scipy.sparse import csr_matrix\n",
    "from scipy.sparse import coo_matrix\n",
    "from scipy.stats import pearsonr\n",
    "from __future__ import print_function    \n",
    "import time\n",
    "from scipy import stats as sss\n",
    "from sklearn.ensemble import RandomForestRegressor\n",
    "from sklearn.linear_model import LinearRegression\n",
    "import xgboost as xgb\n",
    "from sklearn.linear_model import LogisticRegression\n",
    "from sklearn.metrics import mean_squared_error as mse\n",
    "from sklearn.metrics import roc_auc_score as auc\n",
    "from sklearn.model_selection import GridSearchCV\n",
    "from sklearn import svm\n",
    "from sklearn.neural_network import MLPRegressor\n",
    "import pickle\n",
    "from scipy import io"
   ]
  },
  {
   "cell_type": "code",
   "execution_count": 3,
   "metadata": {},
   "outputs": [],
   "source": [
    "validation_df = pd.read_csv('/Users/osx/Desktop/Warner Music Dissertation/Code/validation_df.csv')"
   ]
  },
  {
   "cell_type": "code",
   "execution_count": 46,
   "metadata": {
    "collapsed": true
   },
   "outputs": [],
   "source": [
    "validation_df = validation_df.drop('Unnamed: 0',axis=1)"
   ]
  },
  {
   "cell_type": "markdown",
   "metadata": {},
   "source": [
    "# Generate user listen histroy by dictionary"
   ]
  },
  {
   "cell_type": "code",
   "execution_count": 47,
   "metadata": {
    "collapsed": true
   },
   "outputs": [],
   "source": [
    "music = validation_df[['customer_id','track_name']]\n",
    "music.sort_values('customer_id',inplace=True)\n",
    "\n",
    "# track_set = music['track_name'].unique() ######\n",
    "users_, tracks = music.T.values"
   ]
  },
  {
   "cell_type": "code",
   "execution_count": 48,
   "metadata": {
    "collapsed": true
   },
   "outputs": [],
   "source": [
    "user, index = np.unique(users_,True)\n",
    "user_history = np.split(tracks,index[1:])\n",
    "\n",
    "# index_to_user_dict = dict(enumerate(user,start=0))\n",
    "# index_to_track_id = dict(enumerate(track_set,start=0))\n",
    "\n",
    "# inv_track_id_map = {v: k for k, v in index_to_track_id.items()}"
   ]
  },
  {
   "cell_type": "code",
   "execution_count": 49,
   "metadata": {
    "collapsed": true
   },
   "outputs": [],
   "source": [
    "v={u:defaultdict(int) for u in user}\n",
    "\n",
    "for u,history in zip(user,user_history):\n",
    "        for song in history:\n",
    "            v[u][song]+=1"
   ]
  },
  {
   "cell_type": "code",
   "execution_count": 14,
   "metadata": {
    "collapsed": true
   },
   "outputs": [],
   "source": [
    "t = np.load('trainset_Dict.npy').item()\n",
    "index_to_user_dict = np.load('train_user_map.npy').item()\n",
    "index_to_track_id = np.load('train_track_map.npy').item()\n",
    "inv_track_id_map = np.load('inv_track_map.npy').item()"
   ]
  },
  {
   "cell_type": "code",
   "execution_count": 51,
   "metadata": {},
   "outputs": [
    {
     "name": "stderr",
     "output_type": "stream",
     "text": [
      "100%|██████████| 15000/15000 [00:03<00:00, 4611.73it/s]\n"
     ]
    }
   ],
   "source": [
    "v_user = v.keys()\n",
    "v_f = {}\n",
    "non_ative = []\n",
    "n=0\n",
    "\n",
    "for i in tqdm.tqdm(range(15000)):\n",
    "    if index_to_user_dict[i] in v_user:\n",
    "        v_f[index_to_user_dict[i]] = v[index_to_user_dict[i]]\n",
    "        \n",
    "    else:\n",
    "        n+=1\n",
    "        non_ative.append(i)\n",
    "        v_f[index_to_user_dict[i]] = t[index_to_user_dict[i]]"
   ]
  },
  {
   "cell_type": "code",
   "execution_count": 52,
   "metadata": {},
   "outputs": [
    {
     "data": {
      "text/plain": [
       "3289"
      ]
     },
     "execution_count": 52,
     "metadata": {},
     "output_type": "execute_result"
    }
   ],
   "source": [
    "n"
   ]
  },
  {
   "cell_type": "code",
   "execution_count": 53,
   "metadata": {},
   "outputs": [
    {
     "name": "stderr",
     "output_type": "stream",
     "text": [
      "100%|██████████| 15000/15000 [00:00<00:00, 351395.54it/s]\n"
     ]
    }
   ],
   "source": [
    "track_base = []\n",
    "for i in tqdm.tqdm(range(15000)):\n",
    "    track_base.extend(list(t[index_to_user_dict[i]].keys()))\n",
    "track_base = set(track_base)\n",
    "\n",
    "col_num = len(track_base)"
   ]
  },
  {
   "cell_type": "code",
   "execution_count": 54,
   "metadata": {},
   "outputs": [
    {
     "name": "stderr",
     "output_type": "stream",
     "text": [
      "100%|██████████| 15000/15000 [00:00<00:00, 17288.14it/s]\n"
     ]
    }
   ],
   "source": [
    "val_mat = ssp.dok_matrix((15000,col_num))\n",
    "\n",
    "for i in tqdm.tqdm(range(15000)):\n",
    "    for j in v_f[index_to_user_dict[i]].keys():\n",
    "        if j in track_base:\n",
    "            k = inv_track_id_map[j]\n",
    "            val_mat[i,k] = v_f[index_to_user_dict[i]][index_to_track_id[k]]"
   ]
  },
  {
   "cell_type": "code",
   "execution_count": 56,
   "metadata": {
    "collapsed": true
   },
   "outputs": [],
   "source": [
    "# io.mmwrite(\"val_mat.mtx\", val_mat)"
   ]
  },
  {
   "cell_type": "code",
   "execution_count": 65,
   "metadata": {
    "collapsed": true
   },
   "outputs": [],
   "source": [
    "# np.save('v_f',v_f)"
   ]
  },
  {
   "cell_type": "code",
   "execution_count": 62,
   "metadata": {
    "collapsed": true
   },
   "outputs": [],
   "source": [
    "# with open(\"non_active.txt\", \"wb\") as fp:   #Pickling\n",
    "#     pickle.dump(non_ative, fp)"
   ]
  },
  {
   "cell_type": "code",
   "execution_count": 68,
   "metadata": {
    "collapsed": true
   },
   "outputs": [],
   "source": [
    "np.save('track_base',track_base)"
   ]
  },
  {
   "cell_type": "markdown",
   "metadata": {
    "collapsed": true
   },
   "source": [
    "### Evaluate 1: MAE and RMSE of predict with ground truth"
   ]
  },
  {
   "cell_type": "code",
   "execution_count": 16,
   "metadata": {
    "collapsed": true
   },
   "outputs": [],
   "source": [
    "user_cosine = io.mmread(\"user_cosine.mtx\")\n",
    "user_item = io.mmread(\"user_item.mtx\")\n",
    "user_cosine = user_cosine.tocsr()\n",
    "user_item = user_item.tocsr()"
   ]
  },
  {
   "cell_type": "code",
   "execution_count": 18,
   "metadata": {
    "collapsed": true
   },
   "outputs": [],
   "source": [
    "col_num=18419"
   ]
  },
  {
   "cell_type": "code",
   "execution_count": 19,
   "metadata": {},
   "outputs": [],
   "source": [
    "mat_col = np.array(range(col_num))"
   ]
  },
  {
   "cell_type": "code",
   "execution_count": 23,
   "metadata": {},
   "outputs": [
    {
     "name": "stderr",
     "output_type": "stream",
     "text": [
      "100%|██████████| 15000/15000 [04:15<00:00, 58.34it/s]"
     ]
    },
    {
     "name": "stdout",
     "output_type": "stream",
     "text": [
      "MAE of user-based cosine similarity is 0.0365024852249\n",
      "\n",
      "RMSE of user-based cosine similarity is 0.5980833210926307\n"
     ]
    },
    {
     "name": "stderr",
     "output_type": "stream",
     "text": [
      "\n"
     ]
    }
   ],
   "source": [
    "### Calculate the MAE and RMSE with user-based cosine similarity\n",
    "value_denominator = 0\n",
    "MAE_numerator = 0\n",
    "RMSE_numerator = 0\n",
    "for i in tqdm.tqdm(range(15000)):\n",
    "    del_col = user_item[i,:].indices\n",
    "    pred_col = np.delete(mat_col,del_col)\n",
    "    minus = user_cosine[i,pred_col].toarray() - val_mat[i,pred_col].toarray()\n",
    "    one_MAE = np.sum(np.absolute(minus))\n",
    "    one_RMSE = np.sum(minus**2)\n",
    "    MAE_numerator = MAE_numerator + one_MAE\n",
    "    RMSE_numerator = RMSE_numerator + one_RMSE              \n",
    "    value_denominator = value_denominator + len(pred_col)\n",
    "    \n",
    "MAE_1 = MAE_numerator/value_denominator\n",
    "RMSE_1 =  math.sqrt(RMSE_numerator/value_denominator)    \n",
    "\n",
    "print('MAE of user-based cosine similarity is',MAE_1)\n",
    "print('')\n",
    "print('RMSE of user-based cosine similarity is',RMSE_1)"
   ]
  },
  {
   "cell_type": "code",
   "execution_count": 20,
   "metadata": {
    "collapsed": true
   },
   "outputs": [],
   "source": [
    "user_Pearson = io.mmread(\"user_Pearson.mtx\")\n",
    "user_Pearson = user_Pearson.tocsr()"
   ]
  },
  {
   "cell_type": "code",
   "execution_count": 25,
   "metadata": {
    "collapsed": true
   },
   "outputs": [],
   "source": [
    "# user_Pearson.todense()"
   ]
  },
  {
   "cell_type": "code",
   "execution_count": 26,
   "metadata": {},
   "outputs": [
    {
     "name": "stderr",
     "output_type": "stream",
     "text": [
      "100%|██████████| 15000/15000 [04:32<00:00, 55.10it/s]"
     ]
    },
    {
     "name": "stdout",
     "output_type": "stream",
     "text": [
      "MAE of user-based Pearson Correlation is 0.0074187838705\n",
      "\n",
      "RMSE of user-based Pearson Correlation is 0.08569266225468979\n"
     ]
    },
    {
     "name": "stderr",
     "output_type": "stream",
     "text": [
      "\n"
     ]
    }
   ],
   "source": [
    "### Calculate the MAE and RMSE with user-based Pearson correlation\n",
    "value_denominator = 0\n",
    "MAE_numerator = 0\n",
    "RMSE_numerator = 0\n",
    "for i in tqdm.tqdm(range(15000)):\n",
    "    del_col = user_item[i,:].indices\n",
    "    pred_col = np.delete(mat_col,del_col)\n",
    "    minus = user_Pearson[i,pred_col].toarray() - val_mat[i,pred_col].toarray()\n",
    "    one_MAE = np.sum(np.absolute(minus))\n",
    "    one_RMSE = np.sum(minus**2)\n",
    "    MAE_numerator = MAE_numerator + one_MAE\n",
    "    RMSE_numerator = RMSE_numerator + one_RMSE              \n",
    "    value_denominator = value_denominator + len(pred_col)\n",
    "    \n",
    "MAE_2 = MAE_numerator/value_denominator\n",
    "RMSE_2 =  math.sqrt(RMSE_numerator/value_denominator)    \n",
    "\n",
    "print('MAE of user-based Pearson Correlation is',MAE_2)\n",
    "print('')\n",
    "print('RMSE of user-based Pearson Correlation is',RMSE_2)"
   ]
  },
  {
   "cell_type": "code",
   "execution_count": 21,
   "metadata": {
    "collapsed": true
   },
   "outputs": [],
   "source": [
    "Item_cosine = io.mmread(\"Item_cosine.mtx\")\n",
    "Item_cosine = Item_cosine.tocsr()"
   ]
  },
  {
   "cell_type": "code",
   "execution_count": 28,
   "metadata": {},
   "outputs": [
    {
     "name": "stderr",
     "output_type": "stream",
     "text": [
      "100%|██████████| 15000/15000 [04:16<00:00, 57.77it/s]"
     ]
    },
    {
     "name": "stdout",
     "output_type": "stream",
     "text": [
      "MAE of Item cosine similarity is 0.00650860471822\n",
      "\n",
      "RMSE of Item cosine similarity is 0.05248786069718772\n"
     ]
    },
    {
     "name": "stderr",
     "output_type": "stream",
     "text": [
      "\n"
     ]
    }
   ],
   "source": [
    "### Calculate the MAE and RMSE with item-based cosine similarity\n",
    "value_denominator = 0\n",
    "MAE_numerator = 0\n",
    "RMSE_numerator = 0\n",
    "for i in tqdm.tqdm(range(15000)):\n",
    "    del_col = user_item[i,:].indices\n",
    "    pred_col = np.delete(mat_col,del_col)\n",
    "    minus = Item_cosine[i,pred_col].toarray() - val_mat[i,pred_col].toarray()\n",
    "    one_MAE = np.sum(np.absolute(minus))\n",
    "    one_RMSE = np.sum(minus**2)\n",
    "    MAE_numerator = MAE_numerator + one_MAE\n",
    "    RMSE_numerator = RMSE_numerator + one_RMSE              \n",
    "    value_denominator = value_denominator + len(pred_col)\n",
    "    \n",
    "MAE_3 = MAE_numerator/value_denominator\n",
    "RMSE_3 =  math.sqrt(RMSE_numerator/value_denominator)    \n",
    "\n",
    "print('MAE of Item cosine similarity is',MAE_3)\n",
    "print('')\n",
    "print('RMSE of Item cosine similarity is',RMSE_3)"
   ]
  },
  {
   "cell_type": "code",
   "execution_count": 22,
   "metadata": {
    "collapsed": true
   },
   "outputs": [],
   "source": [
    "Item_adjusted_cosine = io.mmread(\"Item_adjusted_cosine.mtx\")\n",
    "Item_adjusted_cosine = Item_adjusted_cosine.tocsr()"
   ]
  },
  {
   "cell_type": "code",
   "execution_count": 278,
   "metadata": {},
   "outputs": [
    {
     "name": "stderr",
     "output_type": "stream",
     "text": [
      "100%|██████████| 15000/15000 [04:03<00:00, 59.44it/s]"
     ]
    },
    {
     "name": "stdout",
     "output_type": "stream",
     "text": [
      "MAE of Item adjusted cosine similarity is 0.00542927459719\n",
      "\n",
      "RMSE of Item adjusted cosine similarity is 0.0570417848872202\n"
     ]
    },
    {
     "name": "stderr",
     "output_type": "stream",
     "text": [
      "\n"
     ]
    }
   ],
   "source": [
    "### Calculate the MAE and RMSE with item-based adjusted cosine similarity\n",
    "value_denominator = 0\n",
    "MAE_numerator = 0\n",
    "RMSE_numerator = 0\n",
    "for i in tqdm.tqdm(range(15000)):\n",
    "    del_col = user_item[i,:].indices\n",
    "    pred_col = np.delete(mat_col,del_col)\n",
    "    minus = Item_adjusted_cosine[i,pred_col].toarray() - val_mat[i,pred_col].toarray()\n",
    "    one_MAE = np.sum(np.absolute(minus))\n",
    "    one_RMSE = np.sum(minus**2)\n",
    "    MAE_numerator = MAE_numerator + one_MAE\n",
    "    RMSE_numerator = RMSE_numerator + one_RMSE              \n",
    "    value_denominator = value_denominator + len(pred_col)\n",
    "    \n",
    "MAE_4 = MAE_numerator/value_denominator\n",
    "RMSE_4 =  math.sqrt(RMSE_numerator/value_denominator)    \n",
    "\n",
    "print('MAE of Item adjusted cosine similarity is',MAE_4)\n",
    "print('')\n",
    "print('RMSE of Item adjusted cosine similarity is',RMSE_4)"
   ]
  },
  {
   "cell_type": "code",
   "execution_count": 23,
   "metadata": {
    "collapsed": true
   },
   "outputs": [],
   "source": [
    "Item_Pearson = io.mmread(\"Item_Pearson.mtx\")\n",
    "Item_Pearson = Item_Pearson.tocsr()"
   ]
  },
  {
   "cell_type": "code",
   "execution_count": 279,
   "metadata": {},
   "outputs": [
    {
     "name": "stderr",
     "output_type": "stream",
     "text": [
      "100%|██████████| 15000/15000 [04:14<00:00, 59.02it/s]"
     ]
    },
    {
     "name": "stdout",
     "output_type": "stream",
     "text": [
      "MAE of Item Pearson Correlation is 0.00225218437626\n",
      "\n",
      "RMSE of Item Pearson Correlation is 0.037870356850816016\n"
     ]
    },
    {
     "name": "stderr",
     "output_type": "stream",
     "text": [
      "\n"
     ]
    }
   ],
   "source": [
    "### Calculate the MAE and RMSE with item-based Pearson Correlation\n",
    "value_denominator = 0\n",
    "MAE_numerator = 0\n",
    "RMSE_numerator = 0\n",
    "for i in tqdm.tqdm(range(15000)):\n",
    "    del_col = user_item[i,:].indices\n",
    "    pred_col = np.delete(mat_col,del_col)\n",
    "    minus = Item_Pearson[i,pred_col].toarray() - val_mat[i,pred_col].toarray()\n",
    "    one_MAE = np.sum(np.absolute(minus))\n",
    "    one_RMSE = np.sum(minus**2)\n",
    "    MAE_numerator = MAE_numerator + one_MAE\n",
    "    RMSE_numerator = RMSE_numerator + one_RMSE              \n",
    "    value_denominator = value_denominator + len(pred_col)\n",
    "    \n",
    "MAE_5 = MAE_numerator/value_denominator\n",
    "RMSE_5 =  math.sqrt(RMSE_numerator/value_denominator)    \n",
    "\n",
    "print('MAE of Item Pearson Correlation is',MAE_5)\n",
    "print('')\n",
    "print('RMSE of Item Pearson Correlation is',RMSE_5)"
   ]
  },
  {
   "cell_type": "code",
   "execution_count": 131,
   "metadata": {},
   "outputs": [
    {
     "name": "stderr",
     "output_type": "stream",
     "text": [
      "\n",
      "  0%|          | 0/15000 [00:00<?, ?it/s]\u001b[A\n",
      "  0%|          | 5/15000 [00:00<05:24, 46.15it/s]\u001b[A\n",
      "  0%|          | 10/15000 [00:00<05:19, 46.94it/s]\u001b[A\n",
      "  0%|          | 15/15000 [00:00<05:26, 45.86it/s]\u001b[A\n",
      "  0%|          | 20/15000 [00:00<05:19, 46.95it/s]\u001b[A\n",
      "  0%|          | 25/15000 [00:00<05:23, 46.28it/s]\u001b[A\n",
      "  0%|          | 30/15000 [00:00<05:28, 45.56it/s]\u001b[A\n",
      "  0%|          | 35/15000 [00:00<05:36, 44.53it/s]\u001b[A\n",
      "  0%|          | 40/15000 [00:00<05:30, 45.25it/s]\u001b[A\n",
      "  0%|          | 45/15000 [00:00<05:27, 45.66it/s]\u001b[A\n",
      "  0%|          | 50/15000 [00:01<05:25, 45.93it/s]\u001b[A\n",
      "  0%|          | 55/15000 [00:01<05:27, 45.60it/s]\u001b[A\n",
      "  0%|          | 61/15000 [00:01<05:19, 46.82it/s]\u001b[A\n",
      "  0%|          | 66/15000 [00:01<05:19, 46.80it/s]\u001b[A\n",
      "  0%|          | 71/15000 [00:01<05:15, 47.28it/s]\u001b[A\n",
      "  1%|          | 76/15000 [00:01<05:16, 47.13it/s]\u001b[A\n",
      "100%|██████████| 15000/15000 [04:59<00:00, 50.01it/s]"
     ]
    },
    {
     "name": "stdout",
     "output_type": "stream",
     "text": [
      "MAE of average of five similarity pred is 0.00903180044483\n",
      "\n",
      "RMSE of average of five similarity pred is 0.1292751168908239\n"
     ]
    },
    {
     "name": "stderr",
     "output_type": "stream",
     "text": [
      "\n"
     ]
    }
   ],
   "source": [
    "### Calculate the MAE and RMSE with average of all similarity based results\n",
    "value_denominator = 0\n",
    "MAE_numerator = 0\n",
    "RMSE_numerator = 0\n",
    "for i in tqdm.tqdm(range(15000)):\n",
    "    del_col = user_item[i,:].indices\n",
    "    pred_col = np.delete(mat_col,del_col)\n",
    "    avg_pred = (user_cosine[i,pred_col].toarray()+user_Pearson[i,pred_col].toarray()+\\\n",
    "               Item_cosine[i,pred_col].toarray()+Item_adjusted_cosine[i,pred_col].toarray()+\n",
    "               Item_Pearson[i,pred_col].toarray())/5\n",
    "    minus = avg_pred - val_mat[i,pred_col].toarray()\n",
    "    one_MAE = np.sum(np.absolute(minus))\n",
    "    one_RMSE = np.sum(minus**2)\n",
    "    MAE_numerator = MAE_numerator + one_MAE\n",
    "    RMSE_numerator = RMSE_numerator + one_RMSE              \n",
    "    value_denominator = value_denominator + len(pred_col)\n",
    "    \n",
    "MAE = MAE_numerator/value_denominator\n",
    "RMSE =  math.sqrt(RMSE_numerator/value_denominator)    \n",
    "\n",
    "print('MAE of average of five similarity pred is',MAE)\n",
    "print('')\n",
    "print('RMSE of average of five similarity pred is',RMSE)"
   ]
  },
  {
   "cell_type": "code",
   "execution_count": 24,
   "metadata": {
    "collapsed": true
   },
   "outputs": [],
   "source": [
    "Content_based = io.mmread(\"Content_based.mtx\")\n",
    "Content_based = Content_based.tocsr()"
   ]
  },
  {
   "cell_type": "code",
   "execution_count": 17,
   "metadata": {},
   "outputs": [
    {
     "name": "stderr",
     "output_type": "stream",
     "text": [
      "100%|██████████| 15000/15000 [04:30<00:00, 55.46it/s]"
     ]
    },
    {
     "name": "stdout",
     "output_type": "stream",
     "text": [
      "MAE of Content based cosine is 0.899731454529\n",
      "\n",
      "RMSE of Content based cosine is 1.8404306538682036\n"
     ]
    },
    {
     "name": "stderr",
     "output_type": "stream",
     "text": [
      "\n"
     ]
    }
   ],
   "source": [
    "### Calculate the MAE and RMSE with content-based algorithm\n",
    "value_denominator = 0\n",
    "MAE_numerator = 0\n",
    "RMSE_numerator = 0\n",
    "for i in tqdm.tqdm(range(15000)):\n",
    "    del_col = user_item[i,:].indices\n",
    "    pred_col = np.delete(mat_col,del_col)\n",
    "    minus = Content_based[i,pred_col].toarray() - val_mat[i,pred_col].toarray()\n",
    "    one_MAE = np.sum(np.absolute(minus))\n",
    "    one_RMSE = np.sum(minus**2)\n",
    "    MAE_numerator = MAE_numerator + one_MAE\n",
    "    RMSE_numerator = RMSE_numerator + one_RMSE              \n",
    "    value_denominator = value_denominator + len(pred_col)\n",
    "    \n",
    "MAE_6 = MAE_numerator/value_denominator\n",
    "RMSE_6 =  math.sqrt(RMSE_numerator/value_denominator)    \n",
    "\n",
    "print('MAE of Content based cosine is',MAE_6)\n",
    "print('')\n",
    "print('RMSE of Content based cosine is',RMSE_6)"
   ]
  },
  {
   "cell_type": "code",
   "execution_count": 25,
   "metadata": {},
   "outputs": [
    {
     "name": "stderr",
     "output_type": "stream",
     "text": [
      "  0%|          | 0/15000 [00:00<?, ?it/s]\n"
     ]
    },
    {
     "ename": "NameError",
     "evalue": "name 'val_mat' is not defined",
     "output_type": "error",
     "traceback": [
      "\u001b[0;31m---------------------------------------------------------------------------\u001b[0m",
      "\u001b[0;31mNameError\u001b[0m                                 Traceback (most recent call last)",
      "\u001b[0;32m<ipython-input-25-407e2c1b0cd8>\u001b[0m in \u001b[0;36m<module>\u001b[0;34m()\u001b[0m\n\u001b[1;32m      8\u001b[0m     avg_pred = (user_cosine[i,pred_col].toarray()+user_Pearson[i,pred_col].toarray()+               Item_cosine[i,pred_col].toarray()+Item_adjusted_cosine[i,pred_col].toarray()+\n\u001b[1;32m      9\u001b[0m                Item_Pearson[i,pred_col].toarray()+Content_based[i,pred_col].toarray())/6\n\u001b[0;32m---> 10\u001b[0;31m     \u001b[0mminus\u001b[0m \u001b[0;34m=\u001b[0m \u001b[0mavg_pred\u001b[0m \u001b[0;34m-\u001b[0m \u001b[0mval_mat\u001b[0m\u001b[0;34m[\u001b[0m\u001b[0mi\u001b[0m\u001b[0;34m,\u001b[0m\u001b[0mpred_col\u001b[0m\u001b[0;34m]\u001b[0m\u001b[0;34m.\u001b[0m\u001b[0mtoarray\u001b[0m\u001b[0;34m(\u001b[0m\u001b[0;34m)\u001b[0m\u001b[0;34m\u001b[0m\u001b[0m\n\u001b[0m\u001b[1;32m     11\u001b[0m     \u001b[0mone_MAE\u001b[0m \u001b[0;34m=\u001b[0m \u001b[0mnp\u001b[0m\u001b[0;34m.\u001b[0m\u001b[0msum\u001b[0m\u001b[0;34m(\u001b[0m\u001b[0mnp\u001b[0m\u001b[0;34m.\u001b[0m\u001b[0mabsolute\u001b[0m\u001b[0;34m(\u001b[0m\u001b[0mminus\u001b[0m\u001b[0;34m)\u001b[0m\u001b[0;34m)\u001b[0m\u001b[0;34m\u001b[0m\u001b[0m\n\u001b[1;32m     12\u001b[0m     \u001b[0mone_RMSE\u001b[0m \u001b[0;34m=\u001b[0m \u001b[0mnp\u001b[0m\u001b[0;34m.\u001b[0m\u001b[0msum\u001b[0m\u001b[0;34m(\u001b[0m\u001b[0mminus\u001b[0m\u001b[0;34m**\u001b[0m\u001b[0;36m2\u001b[0m\u001b[0;34m)\u001b[0m\u001b[0;34m\u001b[0m\u001b[0m\n",
      "\u001b[0;31mNameError\u001b[0m: name 'val_mat' is not defined"
     ]
    }
   ],
   "source": [
    "### Calculate the MAE and RMSE with average of all similarity based results\n",
    "value_denominator = 0\n",
    "MAE_numerator = 0\n",
    "RMSE_numerator = 0\n",
    "for i in tqdm.tqdm(range(15000)):\n",
    "    del_col = user_item[i,:].indices\n",
    "    pred_col = np.delete(mat_col,del_col)\n",
    "    avg_pred = (user_cosine[i,pred_col].toarray()+user_Pearson[i,pred_col].toarray()+\\\n",
    "               Item_cosine[i,pred_col].toarray()+Item_adjusted_cosine[i,pred_col].toarray()+\n",
    "               Item_Pearson[i,pred_col].toarray()+Content_based[i,pred_col].toarray())/6\n",
    "    minus = avg_pred - val_mat[i,pred_col].toarray()\n",
    "    one_MAE = np.sum(np.absolute(minus))\n",
    "    one_RMSE = np.sum(minus**2)\n",
    "    MAE_numerator = MAE_numerator + one_MAE\n",
    "    RMSE_numerator = RMSE_numerator + one_RMSE              \n",
    "    value_denominator = value_denominator + len(pred_col)\n",
    "    \n",
    "MAE = MAE_numerator/value_denominator\n",
    "RMSE =  math.sqrt(RMSE_numerator/value_denominator)    \n",
    "\n",
    "print('MAE of average of six similarity pred is',MAE)\n",
    "print('')\n",
    "print('RMSE of average of six similarity pred is',RMSE)"
   ]
  },
  {
   "cell_type": "markdown",
   "metadata": {
    "collapsed": true
   },
   "source": [
    "### Evaluate 2: Recall and Precision metric"
   ]
  },
  {
   "cell_type": "code",
   "execution_count": 40,
   "metadata": {
    "collapsed": true
   },
   "outputs": [],
   "source": [
    "active_user = np.array(range(15000))\n",
    "active_user = np.delete(active_user,non_ative)"
   ]
  },
  {
   "cell_type": "code",
   "execution_count": 18,
   "metadata": {
    "collapsed": true
   },
   "outputs": [],
   "source": [
    "# np.save('active_user.npy',active_user)"
   ]
  },
  {
   "cell_type": "code",
   "execution_count": 41,
   "metadata": {},
   "outputs": [
    {
     "name": "stderr",
     "output_type": "stream",
     "text": [
      "100%|██████████| 15000/15000 [00:00<00:00, 22891.82it/s]\n"
     ]
    }
   ],
   "source": [
    "### filter the new tracks in validation dataset which not shown in training dataset\n",
    "v_ft = {u:defaultdict(int) for u in v_f.keys()}\n",
    "\n",
    "for i in tqdm.tqdm(range(15000)):\n",
    "    for k in v_f[index_to_user_dict[i]].keys():\n",
    "        if k in track_base:\n",
    "            v_ft[index_to_user_dict[i]][k]=v_f[index_to_user_dict[i]][k]"
   ]
  },
  {
   "cell_type": "code",
   "execution_count": 13,
   "metadata": {
    "collapsed": true
   },
   "outputs": [],
   "source": [
    "# np.save('validation_Dict',v_ft)"
   ]
  },
  {
   "cell_type": "code",
   "execution_count": 4,
   "metadata": {
    "collapsed": true
   },
   "outputs": [],
   "source": [
    "recommender_cosine_U = np.load('recommender_cosine_U.npy').item()"
   ]
  },
  {
   "cell_type": "code",
   "execution_count": 21,
   "metadata": {},
   "outputs": [
    {
     "name": "stdout",
     "output_type": "stream",
     "text": [
      "User_based cosine similarity recall is 0.03119329948866448\n",
      "User_based cosine similarity precision 0.02906668943728119\n"
     ]
    }
   ],
   "source": [
    "Tnum_val = 0\n",
    "suc_rec = 0\n",
    "num_p = 0\n",
    "for i in active_user:\n",
    "    num_val = len(v_ft[index_to_user_dict[i]].keys())\n",
    "    Tnum_val = Tnum_val+num_val\n",
    "    rec_set = recommender_cosine_U[i]\n",
    "    num_p = num_p+len(rec_set)\n",
    "    for j in v_ft[index_to_user_dict[i]].keys():\n",
    "        if j in rec_set:\n",
    "            suc_rec+=1\n",
    "            \n",
    "recall_cos_u = suc_rec/Tnum_val\n",
    "precision_cos_u = suc_rec/num_p\n",
    "print('User_based cosine similarity recall is',recall_cos_u)\n",
    "print('User_based cosine similarity precision',precision_cos_u)"
   ]
  },
  {
   "cell_type": "code",
   "execution_count": 5,
   "metadata": {
    "collapsed": true
   },
   "outputs": [],
   "source": [
    "recommender_Pearson_U = np.load('recommender_Pearson_U.npy').item()"
   ]
  },
  {
   "cell_type": "code",
   "execution_count": 23,
   "metadata": {},
   "outputs": [
    {
     "name": "stdout",
     "output_type": "stream",
     "text": [
      "User_based Pearson correlation recall is 0.013122445613327713\n",
      "User_based Pearson correlation precision 0.012227819998292203\n"
     ]
    }
   ],
   "source": [
    "Tnum_val = 0\n",
    "suc_rec = 0\n",
    "num_p = 0\n",
    "for i in active_user:\n",
    "    num_val = len(v_ft[index_to_user_dict[i]].keys())\n",
    "    Tnum_val = Tnum_val+num_val\n",
    "    rec_set = recommender_Pearson_U[i]\n",
    "    num_p = num_p+len(rec_set)\n",
    "    for j in v_ft[index_to_user_dict[i]].keys():\n",
    "        if j in rec_set:\n",
    "            suc_rec+=1\n",
    "            \n",
    "recall_P_u = suc_rec/Tnum_val\n",
    "precision_P_u = suc_rec/num_p\n",
    "print('User_based Pearson correlation recall is',recall_P_u)\n",
    "print('User_based Pearson correlation precision',precision_P_u)"
   ]
  },
  {
   "cell_type": "code",
   "execution_count": 6,
   "metadata": {
    "collapsed": true
   },
   "outputs": [],
   "source": [
    "recommender_cosine_T = np.load('recommender_cosine_T.npy').item()"
   ]
  },
  {
   "cell_type": "code",
   "execution_count": 25,
   "metadata": {},
   "outputs": [
    {
     "name": "stdout",
     "output_type": "stream",
     "text": [
      "Track based cosine similarity recall is 0.010794860986382713\n",
      "Track based cosine similarity precision is 0.01005891896507557\n"
     ]
    }
   ],
   "source": [
    "Tnum_val = 0\n",
    "suc_rec = 0\n",
    "num_p = 0\n",
    "for i in active_user:\n",
    "    num_val = len(v_ft[index_to_user_dict[i]].keys())\n",
    "    Tnum_val = Tnum_val+num_val\n",
    "    rec_set = recommender_cosine_T[i]\n",
    "    num_p = num_p+len(rec_set)\n",
    "    for j in v_ft[index_to_user_dict[i]].keys():\n",
    "        if j in rec_set:\n",
    "            suc_rec+=1\n",
    "            \n",
    "recall_cos_t = suc_rec/Tnum_val\n",
    "precision_cos_t = suc_rec/num_p\n",
    "print('Track based cosine similarity recall is',recall_cos_t)\n",
    "print('Track based cosine similarity precision is',precision_cos_t)"
   ]
  },
  {
   "cell_type": "code",
   "execution_count": 7,
   "metadata": {
    "collapsed": true
   },
   "outputs": [],
   "source": [
    "recommender_adjusted_cosine_T = np.load('recommender_adjuested_cosine_T.npy').item()"
   ]
  },
  {
   "cell_type": "code",
   "execution_count": 27,
   "metadata": {},
   "outputs": [
    {
     "name": "stdout",
     "output_type": "stream",
     "text": [
      "Track based adjusted cosine similarity recall is 0.006322966112567124\n",
      "Track based adjusted cosine similarity precision is 0.005891896507556998\n"
     ]
    }
   ],
   "source": [
    "Tnum_val = 0\n",
    "suc_rec = 0\n",
    "num_p = 0\n",
    "for i in active_user:\n",
    "    num_val = len(v_ft[index_to_user_dict[i]].keys())\n",
    "    Tnum_val = Tnum_val+num_val\n",
    "    rec_set = recommender_adjusted_cosine_T[i]\n",
    "    num_p = num_p+len(rec_set)\n",
    "    for j in v_ft[index_to_user_dict[i]].keys():\n",
    "        if j in rec_set:\n",
    "            suc_rec+=1\n",
    "            \n",
    "recall_adcos_t = suc_rec/Tnum_val\n",
    "precision_adcos_t = suc_rec/num_p\n",
    "print('Track based adjusted cosine similarity recall is',recall_adcos_t)\n",
    "print('Track based adjusted cosine similarity precision is',precision_adcos_t)"
   ]
  },
  {
   "cell_type": "code",
   "execution_count": 8,
   "metadata": {
    "collapsed": true
   },
   "outputs": [],
   "source": [
    "recommender_Pearson_T = np.load('recommender_Pearson_T.npy').item()"
   ]
  },
  {
   "cell_type": "code",
   "execution_count": 33,
   "metadata": {},
   "outputs": [
    {
     "name": "stdout",
     "output_type": "stream",
     "text": [
      "Track based Pearson correlation recall is 0.009713542143943698\n",
      "Track based Pearson correlation precision is 0.009051319272478866\n"
     ]
    }
   ],
   "source": [
    "Tnum_val = 0\n",
    "suc_rec = 0\n",
    "num_p = 0\n",
    "for i in active_user:\n",
    "    num_val = len(v_ft[index_to_user_dict[i]].keys())\n",
    "    Tnum_val = Tnum_val+num_val\n",
    "    rec_set = recommender_Pearson_T[i]\n",
    "    num_p = num_p+len(rec_set)\n",
    "    for j in v_ft[index_to_user_dict[i]].keys():\n",
    "        if j in rec_set:\n",
    "            suc_rec+=1\n",
    "            \n",
    "recall_P_t = suc_rec/Tnum_val\n",
    "precision_P_t = suc_rec/num_p\n",
    "print('Track based Pearson correlation recall is',recall_P_t)\n",
    "print('Track based Pearson correlation precision is',precision_P_t)"
   ]
  },
  {
   "cell_type": "code",
   "execution_count": 34,
   "metadata": {},
   "outputs": [
    {
     "name": "stdout",
     "output_type": "stream",
     "text": [
      "Five recommendation sets recall is 0.05190330443707274\n",
      "Five recommendation sets precision is 0.009672957048928357\n"
     ]
    }
   ],
   "source": [
    "### combine all five recommendation sets\n",
    "Tnum_val = 0\n",
    "suc_rec = 0\n",
    "num_p = 0\n",
    "for i in active_user:\n",
    "    rec_set = []\n",
    "    num_val = len(v_ft[index_to_user_dict[i]].keys())\n",
    "    Tnum_val = Tnum_val+num_val\n",
    "    rec_set.extend(recommender_cosine_U[i])\n",
    "    rec_set.extend(recommender_Pearson_U[i])\n",
    "    rec_set.extend(recommender_cosine_T[i])\n",
    "    rec_set.extend(recommender_adjusted_cosine_T[i])\n",
    "    rec_set.extend(recommender_Pearson_T[i])\n",
    "    num_p = num_p+len(rec_set)\n",
    "    for j in v_ft[index_to_user_dict[i]].keys():\n",
    "        if j in rec_set:\n",
    "            suc_rec+=1\n",
    "            \n",
    "recall = suc_rec/Tnum_val\n",
    "precision = suc_rec/num_p\n",
    "print('Five recommendation sets recall is',recall)\n",
    "print('Five recommendation sets precision is',precision)"
   ]
  },
  {
   "cell_type": "code",
   "execution_count": 9,
   "metadata": {
    "collapsed": true
   },
   "outputs": [],
   "source": [
    "recommender_conten_based = np.load('recommender_content_based.npy').item()"
   ]
  },
  {
   "cell_type": "code",
   "execution_count": 42,
   "metadata": {},
   "outputs": [
    {
     "name": "stdout",
     "output_type": "stream",
     "text": [
      "content-based recall is 0.00047651338819346443\n",
      "content-based precision is 0.00044402698317820853\n"
     ]
    }
   ],
   "source": [
    "Tnum_val = 0\n",
    "suc_rec = 0\n",
    "num_p = 0\n",
    "for i in active_user:\n",
    "    num_val = len(v_ft[index_to_user_dict[i]].keys())\n",
    "    Tnum_val = Tnum_val+num_val\n",
    "    rec_set = recommender_conten_based[i]\n",
    "    num_p = num_p+len(rec_set)\n",
    "    for j in v_ft[index_to_user_dict[i]].keys():\n",
    "        if j in rec_set:\n",
    "            suc_rec+=1\n",
    "            \n",
    "recall_content = suc_rec/Tnum_val\n",
    "precision_content = suc_rec/num_p\n",
    "print('content-based recall is',recall_content)\n",
    "print('content-based precision is',precision_content)"
   ]
  },
  {
   "cell_type": "code",
   "execution_count": 12,
   "metadata": {},
   "outputs": [],
   "source": [
    "# v_ft=np.load('v_f.npy').item()\n",
    "# active_user=np.load('active_user.npy')"
   ]
  },
  {
   "cell_type": "code",
   "execution_count": 15,
   "metadata": {},
   "outputs": [
    {
     "name": "stdout",
     "output_type": "stream",
     "text": [
      "Six recommendation sets recall is 0.041364222483012414\n",
      "Six recommendation sets precision is 0.008126263057524265\n"
     ]
    }
   ],
   "source": [
    "### combine all six recommendation sets\n",
    "Tnum_val = 0\n",
    "suc_rec = 0\n",
    "num_p = 0\n",
    "for i in active_user:\n",
    "    rec_set = []\n",
    "    num_val = len(v_ft[index_to_user_dict[i]].keys())\n",
    "    Tnum_val = Tnum_val+num_val\n",
    "    rec_set.extend(recommender_cosine_U[i])\n",
    "    rec_set.extend(recommender_Pearson_U[i])\n",
    "    rec_set.extend(recommender_cosine_T[i])\n",
    "    rec_set.extend(recommender_adjusted_cosine_T[i])\n",
    "    rec_set.extend(recommender_Pearson_T[i])\n",
    "    rec_set.extend(recommender_conten_based[i])\n",
    "    num_p = num_p+len(rec_set)\n",
    "    for j in v_ft[index_to_user_dict[i]].keys():\n",
    "        if j in rec_set:\n",
    "            suc_rec+=1\n",
    "            \n",
    "recall = suc_rec/Tnum_val\n",
    "precision = suc_rec/num_p\n",
    "print('Six recommendation sets recall is',recall)\n",
    "print('Six recommendation sets precision is',precision)"
   ]
  },
  {
   "cell_type": "markdown",
   "metadata": {},
   "source": [
    "##### Figure"
   ]
  },
  {
   "cell_type": "code",
   "execution_count": 296,
   "metadata": {
    "collapsed": true
   },
   "outputs": [],
   "source": [
    "visulazition = {'MAE':{'user_based cosine simialrity':MAE_1,'user_based Pearson correlation':MAE_2,\\\n",
    "         'track_based cosine similarity':MAE_3,'track_based adjusted cosine simialrity':MAE_4,\\\n",
    "         'track_based Pearson correlation':MAE_5,'average of five algorithms prediction':MAE},\\\n",
    "     'RMSE':{'user_based cosine simialrity':RMSE_1,'user_based Pearson correlation':RMSE_2,\\\n",
    "         'track_based cosine similarity':RMSE_3,'track_based adjusted cosine simialrity':RMSE_4,\\\n",
    "         'track_based Pearson correlation':RMSE_5,'average of five algorithms prediction':RMSE}}"
   ]
  },
  {
   "cell_type": "code",
   "execution_count": 298,
   "metadata": {},
   "outputs": [
    {
     "data": {
      "text/html": [
       "<div>\n",
       "<style>\n",
       "    .dataframe thead tr:only-child th {\n",
       "        text-align: right;\n",
       "    }\n",
       "\n",
       "    .dataframe thead th {\n",
       "        text-align: left;\n",
       "    }\n",
       "\n",
       "    .dataframe tbody tr th {\n",
       "        vertical-align: top;\n",
       "    }\n",
       "</style>\n",
       "<table border=\"1\" class=\"dataframe\">\n",
       "  <thead>\n",
       "    <tr style=\"text-align: right;\">\n",
       "      <th></th>\n",
       "      <th>MAE</th>\n",
       "      <th>RMSE</th>\n",
       "    </tr>\n",
       "  </thead>\n",
       "  <tbody>\n",
       "    <tr>\n",
       "      <th>average of five algorithms prediction</th>\n",
       "      <td>0.009032</td>\n",
       "      <td>0.129275</td>\n",
       "    </tr>\n",
       "    <tr>\n",
       "      <th>track_based Pearson correlation</th>\n",
       "      <td>0.002252</td>\n",
       "      <td>0.037870</td>\n",
       "    </tr>\n",
       "    <tr>\n",
       "      <th>track_based adjusted cosine simialrity</th>\n",
       "      <td>0.005429</td>\n",
       "      <td>0.057042</td>\n",
       "    </tr>\n",
       "    <tr>\n",
       "      <th>track_based cosine similarity</th>\n",
       "      <td>0.006509</td>\n",
       "      <td>0.052488</td>\n",
       "    </tr>\n",
       "    <tr>\n",
       "      <th>user_based Pearson correlation</th>\n",
       "      <td>0.007419</td>\n",
       "      <td>0.085693</td>\n",
       "    </tr>\n",
       "    <tr>\n",
       "      <th>user_based cosine simialrity</th>\n",
       "      <td>0.036502</td>\n",
       "      <td>0.598083</td>\n",
       "    </tr>\n",
       "  </tbody>\n",
       "</table>\n",
       "</div>"
      ],
      "text/plain": [
       "                                             MAE      RMSE\n",
       "average of five algorithms prediction   0.009032  0.129275\n",
       "track_based Pearson correlation         0.002252  0.037870\n",
       "track_based adjusted cosine simialrity  0.005429  0.057042\n",
       "track_based cosine similarity           0.006509  0.052488\n",
       "user_based Pearson correlation          0.007419  0.085693\n",
       "user_based cosine simialrity            0.036502  0.598083"
      ]
     },
     "execution_count": 298,
     "metadata": {},
     "output_type": "execute_result"
    }
   ],
   "source": [
    "pd.DataFrame.from_dict(visulazition)"
   ]
  },
  {
   "cell_type": "code",
   "execution_count": 300,
   "metadata": {
    "collapsed": true
   },
   "outputs": [],
   "source": [
    "visulazition_1 = {'SRR':{'user_based cosine simialrity':suc_rate_1,\\\n",
    "                         'user_based Pearson correlation':suc_rate_2,\\\n",
    "                         'track_based cosine similarity':suc_rate_3,\\\n",
    "                         'track_based adjusted cosine simialrity':suc_rate_4,\\\n",
    "                         'track_based Pearson correlation':suc_rate_5,\\\n",
    "                        'add five together':suc_rate}}"
   ]
  },
  {
   "cell_type": "code",
   "execution_count": 301,
   "metadata": {},
   "outputs": [
    {
     "data": {
      "text/html": [
       "<div>\n",
       "<style>\n",
       "    .dataframe thead tr:only-child th {\n",
       "        text-align: right;\n",
       "    }\n",
       "\n",
       "    .dataframe thead th {\n",
       "        text-align: left;\n",
       "    }\n",
       "\n",
       "    .dataframe tbody tr th {\n",
       "        vertical-align: top;\n",
       "    }\n",
       "</style>\n",
       "<table border=\"1\" class=\"dataframe\">\n",
       "  <thead>\n",
       "    <tr style=\"text-align: right;\">\n",
       "      <th></th>\n",
       "      <th>SRR</th>\n",
       "    </tr>\n",
       "  </thead>\n",
       "  <tbody>\n",
       "    <tr>\n",
       "      <th>add five together</th>\n",
       "      <td>0.051903</td>\n",
       "    </tr>\n",
       "    <tr>\n",
       "      <th>track_based Pearson correlation</th>\n",
       "      <td>0.009714</td>\n",
       "    </tr>\n",
       "    <tr>\n",
       "      <th>track_based adjusted cosine simialrity</th>\n",
       "      <td>0.006323</td>\n",
       "    </tr>\n",
       "    <tr>\n",
       "      <th>track_based cosine similarity</th>\n",
       "      <td>0.010795</td>\n",
       "    </tr>\n",
       "    <tr>\n",
       "      <th>user_based Pearson correlation</th>\n",
       "      <td>0.013122</td>\n",
       "    </tr>\n",
       "    <tr>\n",
       "      <th>user_based cosine simialrity</th>\n",
       "      <td>0.031193</td>\n",
       "    </tr>\n",
       "  </tbody>\n",
       "</table>\n",
       "</div>"
      ],
      "text/plain": [
       "                                             SRR\n",
       "add five together                       0.051903\n",
       "track_based Pearson correlation         0.009714\n",
       "track_based adjusted cosine simialrity  0.006323\n",
       "track_based cosine similarity           0.010795\n",
       "user_based Pearson correlation          0.013122\n",
       "user_based cosine simialrity            0.031193"
      ]
     },
     "execution_count": 301,
     "metadata": {},
     "output_type": "execute_result"
    }
   ],
   "source": [
    "pd.DataFrame.from_dict(visulazition_1)"
   ]
  },
  {
   "cell_type": "code",
   "execution_count": 299,
   "metadata": {
    "collapsed": true
   },
   "outputs": [],
   "source": [
    "import plotly.plotly as py\n",
    "import plotly.figure_factory as ff\n",
    "\n",
    "data_matrix = [['algorithm name','MAE', 'RMSE'],\n",
    "               ['user_based cosine simialrity', MAE_1, RMSE_1],\n",
    "               ['user_based Pearson correlation', MAE_2, RMSE_2],\n",
    "               ['track_based cosine similarity', MAE_3, RMSE_3],\n",
    "               ['track_based adjusted cosine simialrity', MAE_4, RMSE_4],\n",
    "               ['track_based Pearson correlation', MAE_5, RMSE_5],\n",
    "              ['average of five algorithms prediction', MAE, RMSE]]\n",
    "\n",
    "table = ff.create_table(data_matrix)\n",
    "py.iplot(table, filename='MAE_and_RMSE_metrics')"
   ]
  },
  {
   "cell_type": "code",
   "execution_count": null,
   "metadata": {
    "collapsed": true
   },
   "outputs": [],
   "source": []
  },
  {
   "cell_type": "code",
   "execution_count": null,
   "metadata": {
    "collapsed": true
   },
   "outputs": [],
   "source": []
  },
  {
   "cell_type": "code",
   "execution_count": null,
   "metadata": {
    "collapsed": true
   },
   "outputs": [],
   "source": []
  },
  {
   "cell_type": "code",
   "execution_count": null,
   "metadata": {
    "collapsed": true
   },
   "outputs": [],
   "source": []
  }
 ],
 "metadata": {
  "kernelspec": {
   "display_name": "Python 3",
   "language": "python",
   "name": "python3"
  },
  "language_info": {
   "codemirror_mode": {
    "name": "ipython",
    "version": 3
   },
   "file_extension": ".py",
   "mimetype": "text/x-python",
   "name": "python",
   "nbconvert_exporter": "python",
   "pygments_lexer": "ipython3",
   "version": "3.6.1"
  }
 },
 "nbformat": 4,
 "nbformat_minor": 2
}
