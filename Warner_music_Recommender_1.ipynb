{
 "cells": [
  {
   "cell_type": "markdown",
   "metadata": {},
   "source": [
    "# To generate the train data"
   ]
  },
  {
   "cell_type": "code",
   "execution_count": 1,
   "metadata": {
    "collapsed": true
   },
   "outputs": [],
   "source": [
    "import numpy as np\n",
    "import pandas as pd\n",
    "from spotipy import *\n",
    "from scipy import *\n",
    "from scipy import stats\n",
    "# import pyspotify"
   ]
  },
  {
   "cell_type": "code",
   "execution_count": 37,
   "metadata": {},
   "outputs": [
    {
     "name": "stderr",
     "output_type": "stream",
     "text": [
      "/Users/osx/anaconda/lib/python3.6/site-packages/IPython/core/interactiveshell.py:2717: DtypeWarning: Columns (15,18,22,31) have mixed types. Specify dtype option on import or set low_memory=False.\n",
      "  interactivity=interactivity, compiler=compiler, result=result)\n"
     ]
    }
   ],
   "source": [
    "WM_df = pd.read_csv('/Users/osx/Desktop/temp_data.csv')\n",
    "# WM_df_1 = pd.read_csv('/Volumes/Untitled/Warner_Spotify_dataJune14/111')"
   ]
  },
  {
   "cell_type": "code",
   "execution_count": 15,
   "metadata": {
    "collapsed": true
   },
   "outputs": [],
   "source": [
    "with open ('/Volumes/Untitled/Warner_Spotify_dataJune14/222','r+') as abc:\n",
    "    data = abc.read(1000)"
   ]
  },
  {
   "cell_type": "code",
   "execution_count": 60,
   "metadata": {},
   "outputs": [
    {
     "data": {
      "text/plain": [
       "'2015-01-30\\x0120150130T20:45:00\\x01t\\x01200466ed488b4cd3ac45054eab8d1ff6\\x01GBAHS1300401\\x01825646409891\\x01James Blunt\\x01Hollywood\\x01Moon Landing\\x01bd1c738c3c3991a0d3fb3cffc6dcfb0d\\x01No\\x01premium\\x01GB\\x01female\\x011995\\x01streams_20150130_GB.gz\\x01\\x01\\x01vodafone-uk\\x01hardbundle\\x01partner\\x01\\x01206\\x01\\x01album\\x01\\x01mobile\\x01iOS\\x01spotify:track:0YpLvjf44eYRWXrAq7LcPQ\\x01James Blunt\\x01\\n2015-01-30\\x0120150130T01:30:00\\x01t\\x01be512309820b462fb9769d3f1543dce4\\x01GBAHS1300401\\x01825646183623\\x01James Blunt\\x01Hollywood\\x01Moon Landing\\x01eeebecba74ec9d85740d3138912c42d2\\x0112\\x01premium\\x01GB\\x01male\\x011999\\x01streams_20150130_GB.gz\\x01\\x01\\x01\\x01\\x01paid\\x01\\x01206\\x01\\x01artist\\x01\\x01mobile\\x01iOS\\x01spotify:track:5N7Cy74LTTkk50Iyxks14E\\x01James Blunt\\x01\\n2015-01-30\\x0120150130T00:45:00\\x01t\\x01c156ef3b28f24914bd8d0d0b9ab87f57\\x01GBAHS1300401\\x01825646367269\\x01James Blunt\\x01Hollywood\\x01Moon Landing\\x0137264dd005e8fd63949e8f156eb1987c\\x01EX\\x01free\\x01GB\\x01male\\x011995\\x01streams_20150130_GB.gz\\x01\\x01\\x01\\x01\\x01ad\\x01\\x01206\\x01\\x01collection\\x01\\x01mobile\\x01Android\\x01spotify:track:5SPfop6YCwN0UE7e3Nnu7R\\x01James Blunt\\x01\\n2015-01-30\\x0120150130T10:30:00\\x01f\\x01be512309820b462fb9769d3f1543dce4\\x01GBAHS1300401\\x01825646183623\\x01James Blunt\\x01Hol'"
      ]
     },
     "execution_count": 60,
     "metadata": {},
     "output_type": "execute_result"
    }
   ],
   "source": [
    "data"
   ]
  },
  {
   "cell_type": "code",
   "execution_count": 2,
   "metadata": {
    "collapsed": true
   },
   "outputs": [],
   "source": [
    "# reader_0100 = pd.read_csv('/Volumes/Untitled/Warner_2015/Warner_2015/201501 - part-m-000',sep='\\x01',chunksize=10**6,\\\n",
    "#                       error_bad_lines=False,header=None)\n",
    "# reader_0101 = pd.read_csv('/Volumes/Untitled/Warner_2015/Warner_2015/201501 - part-m-001',sep='\\x01',chunksize=10**6,\\\n",
    "#                       error_bad_lines=False,header=None)\n",
    "# reader_0200 = pd.read_csv('/Volumes/Untitled/Warner_2015/Warner_2015/201502 - part-m-000',sep='\\x01',chunksize=10**6,\\\n",
    "#                       error_bad_lines=False,header=None)\n",
    "# reader_0201 = pd.read_csv('/Volumes/Untitled/Warner_2015/Warner_2015/201502 - part-m-001',sep='\\x01',chunksize=10**6,\\\n",
    "#                       error_bad_lines=False,header=None)\n",
    "# reader_0300 = pd.read_csv('/Volumes/Untitled/Warner_2015/Warner_2015/201503 - part-m-000',sep='\\x01',chunksize=10**6,\\\n",
    "#                       error_bad_lines=False,header=None)\n",
    "# reader_0301 = pd.read_csv('/Volumes/Untitled/Warner_2015/Warner_2015/201503 - part-m-001',sep='\\x01',chunksize=10**6,\\\n",
    "#                       error_bad_lines=False,header=None)\n",
    "# reader_0302 = pd.read_csv('/Volumes/Untitled/Warner_2015/Warner_2015/201503 - part-m-002',sep='\\x01',chunksize=10**6,\\\n",
    "#                       error_bad_lines=False,header=None)\n",
    "# reader_0400 = pd.read_csv('/Volumes/Untitled/Warner_2015/Warner_2015/201504 - part-m-000',sep='\\x01',chunksize=10**6,\\\n",
    "#                       error_bad_lines=False,header=None)\n",
    "# reader_0401 = pd.read_csv('/Volumes/Untitled/Warner_2015/Warner_2015/201504 - part-m-001',sep='\\x01',chunksize=10**6,\\\n",
    "#                       error_bad_lines=False,header=None)\n",
    "# reader_0402 = pd.read_csv('/Volumes/Untitled/Warner_2015/Warner_2015/201504 - part-m-002',sep='\\x01',chunksize=10**6,\\\n",
    "#                       error_bad_lines=False,header=None)\n",
    "# reader_0500 = pd.read_csv('/Volumes/Untitled/Warner_2015/Warner_2015/201505 - part-m-000',sep='\\x01',chunksize=10**6,\\\n",
    "#                       error_bad_lines=False,header=None)\n",
    "# reader_0501 = pd.read_csv('/Volumes/Untitled/Warner_2015/Warner_2015/201505 - part-m-001',sep='\\x01',chunksize=10**6,\\\n",
    "#                       error_bad_lines=False,header=None)\n",
    "# reader_0502 = pd.read_csv('/Volumes/Untitled/Warner_2015/Warner_2015/201505 - part-m-002',sep='\\x01',chunksize=10**6,\\\n",
    "#                       error_bad_lines=False,header=None)\n",
    "# reader_0600 = pd.read_csv('/Volumes/Untitled/Warner_2015/Warner_2015/201506 - part-m-000',sep='\\x01',chunksize=10**6,\\\n",
    "#                       error_bad_lines=False,header=None)\n",
    "# reader_0601 = pd.read_csv('/Volumes/Untitled/Warner_2015/Warner_2015/201506 - part-m-001',sep='\\x01',chunksize=10**6,\\\n",
    "#                       error_bad_lines=False,header=None)\n",
    "# reader_0602 = pd.read_csv('/Volumes/Untitled/Warner_2015/Warner_2015/201506 - part-m-002',sep='\\x01',chunksize=10**6,\\\n",
    "#                       error_bad_lines=False,header=None)\n",
    "# reader_0700 = pd.read_csv('/Volumes/Untitled/Warner_2015/Warner_2015/201507 - part-m-000',sep='\\x01',chunksize=10**6,\\\n",
    "#                       error_bad_lines=False,header=None)\n",
    "# reader_0701 = pd.read_csv('/Volumes/Untitled/Warner_2015/Warner_2015/201507 - part-m-001',sep='\\x01',chunksize=10**6,\\\n",
    "#                       error_bad_lines=False,header=None)\n",
    "# reader_0702 = pd.read_csv('/Volumes/Untitled/Warner_2015/Warner_2015/201507 - part-m-002',sep='\\x01',chunksize=10**6,\\\n",
    "#                       error_bad_lines=False,header=None)\n",
    "# reader_0800 = pd.read_csv('/Volumes/Untitled/Warner_2015/Warner_2015/201508 - part-m-000',sep='\\x01',chunksize=10**6,\\\n",
    "#                       error_bad_lines=False,header=None)\n",
    "# reader_0801 = pd.read_csv('/Volumes/Untitled/Warner_2015/Warner_2015/201508 - part-m-001',sep='\\x01',chunksize=10**6,\\\n",
    "#                       error_bad_lines=False,header=None)\n",
    "# reader_0802 = pd.read_csv('/Volumes/Untitled/Warner_2015/Warner_2015/201508 - part-m-002',sep='\\x01',chunksize=10**6,\\\n",
    "#                       error_bad_lines=False,header=None)\n",
    "# reader_0900 = pd.read_csv('/Volumes/Untitled/Warner_2015/Warner_2015/201509 - part-m-000',sep='\\x01',chunksize=10**6,\\\n",
    "#                       error_bad_lines=False,header=None)\n",
    "# reader_0901 = pd.read_csv('/Volumes/Untitled/Warner_2015/Warner_2015/201509 - part-m-001',sep='\\x01',chunksize=10**6,\\\n",
    "#                       error_bad_lines=False,header=None)\n",
    "# reader_0902 = pd.read_csv('/Volumes/Untitled/Warner_2015/Warner_2015/201509 - part-m-002',sep='\\x01',chunksize=10**6,\\\n",
    "#                       error_bad_lines=False,header=None)\n",
    "reader_1000 = pd.read_csv('/Volumes/Untitled/Warner_2015/Warner_2015/201510 - part-m-000',sep='\\x01',chunksize=10**6,\\\n",
    "                      error_bad_lines=False,header=None)\n",
    "reader_1001 = pd.read_csv('/Volumes/Untitled/Warner_2015/Warner_2015/201510 - part-m-001',sep='\\x01',chunksize=10**6,\\\n",
    "                      error_bad_lines=False,header=None)\n",
    "reader_1002 = pd.read_csv('/Volumes/Untitled/Warner_2015/Warner_2015/201510 - part-m-002',sep='\\x01',chunksize=10**6,\\\n",
    "                      error_bad_lines=False,header=None)\n",
    "reader_1100 = pd.read_csv('/Volumes/Untitled/Warner_2015/Warner_2015/201511 - part-m-000',sep='\\x01',chunksize=10**6,\\\n",
    "                      error_bad_lines=False,header=None)\n",
    "reader_1101 = pd.read_csv('/Volumes/Untitled/Warner_2015/Warner_2015/201511 - part-m-001',sep='\\x01',chunksize=10**6,\\\n",
    "                      error_bad_lines=False,header=None)\n",
    "reader_1102 = pd.read_csv('/Volumes/Untitled/Warner_2015/Warner_2015/201511 - part-m-002',sep='\\x01',chunksize=10**6,\\\n",
    "                      error_bad_lines=False,header=None)\n",
    "reader_1200 = pd.read_csv('/Volumes/Untitled/Warner_2015/201512 - part-m-000',sep='\\x01',chunksize=10**6,\\\n",
    "                      error_bad_lines=False,header=None)\n",
    "reader_1201 = pd.read_csv('/Volumes/Untitled/Warner_2015/201512 - part-m-001',sep='\\x01',chunksize=10**6,\\\n",
    "                      error_bad_lines=False,header=None)\n",
    "reader_1202 = pd.read_csv('/Volumes/Untitled/Warner_2015/201512 - part-m-002',sep='\\x01',chunksize=10**6,\\\n",
    "                      error_bad_lines=False,header=None)\n",
    "reader_1203 = pd.read_csv('/Volumes/Untitled/Warner_2015/201512 - part-m-003',sep='\\x01',chunksize=10**6,\\\n",
    "                      error_bad_lines=False,header=None)"
   ]
  },
  {
   "cell_type": "code",
   "execution_count": 3,
   "metadata": {},
   "outputs": [
    {
     "name": "stderr",
     "output_type": "stream",
     "text": [
      "/Users/osx/anaconda/lib/python3.6/site-packages/IPython/core/interactiveshell.py:2717: DtypeWarning: Columns (16,30) have mixed types. Specify dtype option on import or set low_memory=False.\n",
      "  interactivity=interactivity, compiler=compiler, result=result)\n",
      "/Users/osx/anaconda/lib/python3.6/site-packages/IPython/core/interactiveshell.py:2717: DtypeWarning: Columns (30) have mixed types. Specify dtype option on import or set low_memory=False.\n",
      "  interactivity=interactivity, compiler=compiler, result=result)\n"
     ]
    }
   ],
   "source": [
    "i=0\n",
    "for chunk in reader_1000:\n",
    "    i=i+1\n",
    "    q = chunk\n",
    "    if i == 2:\n",
    "        break\n",
    "i=0\n",
    "for chunk in reader_1001:\n",
    "    i=i+1\n",
    "    s = chunk\n",
    "    if i == 2:\n",
    "        break\n",
    "i=0\n",
    "for chunk in reader_1002:\n",
    "    i=i+1\n",
    "    t = chunk\n",
    "    if i == 2:\n",
    "        break\n",
    "i=0        \n",
    "for chunk in reader_1100:\n",
    "    i=i+1\n",
    "    u = chunk\n",
    "    if i == 2:\n",
    "        break\n",
    "\n",
    "i=0        \n",
    "for chunk in reader_1101:\n",
    "    i=i+1\n",
    "    v = chunk\n",
    "    if i == 2:\n",
    "        break\n",
    "i=0        \n",
    "for chunk in reader_1102:\n",
    "    i=i+1\n",
    "    w = chunk\n",
    "    if i == 2:\n",
    "        break\n",
    "i=0        \n",
    "for chunk in reader_1200:\n",
    "    i=i+1\n",
    "    x = chunk\n",
    "    if i == 2:\n",
    "        break\n",
    "i=0        \n",
    "for chunk in reader_1201:\n",
    "    i=i+1\n",
    "    y = chunk\n",
    "    if i == 2:\n",
    "        break\n",
    "i=0        \n",
    "for chunk in reader_1202:\n",
    "    i=i+1\n",
    "    z = chunk\n",
    "    if i == 2:\n",
    "        break\n",
    "i=0        \n",
    "for chunk in reader_1203:\n",
    "    i=i+1\n",
    "    a = chunk\n",
    "    if i == 2:\n",
    "        break\n",
    "# i=0        \n",
    "# for chunk in reader_0901:\n",
    "#     i=i+1\n",
    "#     b = chunk\n",
    "#     if i == 2:\n",
    "#         break\n",
    "# i=0        \n",
    "# for chunk in reader_0902:\n",
    "#     i=i+1\n",
    "#     c = chunk\n",
    "#     if i == 2:\n",
    "#         break\n",
    "# i=0        \n",
    "# for chunk in reader_0502:\n",
    "#     i=i+1\n",
    "#     d = chunk\n",
    "#     if i == 2:\n",
    "#         break\n",
    "# i=0        \n",
    "# for chunk in reader_0800:\n",
    "#     i=i+1\n",
    "#     e = chunk\n",
    "#     if i == 2:\n",
    "#         break\n",
    "# i=0        \n",
    "# for chunk in reader_0800:\n",
    "#     i=i+1\n",
    "#     f = chunk\n",
    "#     if i == 2:\n",
    "#         break\n",
    "# i=0        \n",
    "# for chunk in reader_0800:\n",
    "#     i=i+1\n",
    "#     g = chunk\n",
    "#     if i == 2:\n",
    "#         break\n",
    "# i=0        \n",
    "# for chunk in reader_0800:\n",
    "#     i=i+1\n",
    "#     h = chunk\n",
    "#     if i == 2:\n",
    "#         break\n",
    "# i=0        \n",
    "# for chunk in reader_0800:\n",
    "#     i=i+1\n",
    "#     j = chunk\n",
    "#     if i == 2:\n",
    "#         break\n",
    "# i=0        \n",
    "# for chunk in reader_0800:\n",
    "#     i=i+1\n",
    "#     k = chunk\n",
    "#     if i == 2:\n",
    "#         break"
   ]
  },
  {
   "cell_type": "code",
   "execution_count": 4,
   "metadata": {
    "collapsed": true
   },
   "outputs": [],
   "source": [
    "frame = [q,s,t,u,v,w,x,y,z,a]\n",
    "Dec = pd.concat(frame,axis=0)"
   ]
  },
  {
   "cell_type": "code",
   "execution_count": 5,
   "metadata": {},
   "outputs": [
    {
     "data": {
      "text/plain": [
       "(10000000, 31)"
      ]
     },
     "execution_count": 5,
     "metadata": {},
     "output_type": "execute_result"
    }
   ],
   "source": [
    "Dec.shape"
   ]
  },
  {
   "cell_type": "code",
   "execution_count": 6,
   "metadata": {
    "collapsed": true
   },
   "outputs": [],
   "source": [
    "Dec.to_csv('Validation_03.csv')"
   ]
  },
  {
   "cell_type": "code",
   "execution_count": 9,
   "metadata": {},
   "outputs": [],
   "source": [
    "# WM_df.head(5)"
   ]
  },
  {
   "cell_type": "code",
   "execution_count": 10,
   "metadata": {},
   "outputs": [],
   "source": [
    "# WM_df.columns.drop('Unnamed: 0')"
   ]
  },
  {
   "cell_type": "code",
   "execution_count": 26,
   "metadata": {},
   "outputs": [
    {
     "name": "stderr",
     "output_type": "stream",
     "text": [
      "/Users/osx/anaconda/lib/python3.6/site-packages/IPython/core/interactiveshell.py:2717: DtypeWarning: Columns (17,31) have mixed types. Specify dtype option on import or set low_memory=False.\n",
      "  interactivity=interactivity, compiler=compiler, result=result)\n"
     ]
    }
   ],
   "source": [
    "# validation_1 = pd.read_csv('/Users/osx/Desktop/Warner Music Dissertation/Code/Validation_01.csv')\n",
    "# validation_2 = pd.read_csv('/Users/osx/Desktop/Warner Music Dissertation/Code/Validation_02.csv')\n",
    "validation_3 = pd.read_csv('/Users/osx/Desktop/Warner Music Dissertation/Code/Validation_03.csv')\n",
    "\n",
    "# Dec_data = pd.read_csv('/Users/osx/Desktop/Dec.csv')"
   ]
  },
  {
   "cell_type": "code",
   "execution_count": 27,
   "metadata": {
    "collapsed": true
   },
   "outputs": [],
   "source": [
    "# validation_1 = validation_1.drop('Unnamed: 0',axis=1)\n",
    "# validation_2 = validation_2.drop('Unnamed: 0',axis=1)\n",
    "validation_3 = validation_3.drop('Unnamed: 0',axis=1)"
   ]
  },
  {
   "cell_type": "code",
   "execution_count": 28,
   "metadata": {},
   "outputs": [
    {
     "data": {
      "text/plain": [
       "Index(['0', '1', '2', '3', '4', '5', '6', '7', '8', '9', '10', '11', '12',\n",
       "       '13', '14', '15', '16', '17', '18', '19', '20', '21', '22', '23', '24',\n",
       "       '25', '26', '27', '28', '29', '30'],\n",
       "      dtype='object')"
      ]
     },
     "execution_count": 28,
     "metadata": {},
     "output_type": "execute_result"
    }
   ],
   "source": [
    "validation_3.columns"
   ]
  },
  {
   "cell_type": "code",
   "execution_count": 17,
   "metadata": {
    "collapsed": true
   },
   "outputs": [],
   "source": [
    "rename_dic = {'0':'day','1':'log_time','2':'mobile','3':'track_id','4':'isrc','5':'upc',\\\n",
    "              '6':'artist_name','7':'track_name','8':'album_name','9':'customer_id','10':'postal_code',\\\n",
    "             '11':'access','12':'country_code','13':'gender','14':'birth_year','15':'filename',\\\n",
    "             '16':'region_code','17':'referral_code','18':'partner_name','19':'financial_product',\\\n",
    "              '20':'user_product_type','21':'offline_timestamp','22':'stream_length','23':'stream_cached',\\\n",
    "             '24':'stream_source','25':'stream_source_uri','26':'stream_device','27':'stream_os',\\\n",
    "              '28':'track_uri','29':'track_artists','30':'source'}"
   ]
  },
  {
   "cell_type": "code",
   "execution_count": 29,
   "metadata": {
    "collapsed": true
   },
   "outputs": [],
   "source": [
    "validation_1 = validation_1.rename(columns=rename_dic)\n",
    "validation_2 = validation_2.rename(columns=rename_dic)\n",
    "validation_3 = validation_3.rename(columns=rename_dic)"
   ]
  },
  {
   "cell_type": "code",
   "execution_count": 20,
   "metadata": {},
   "outputs": [
    {
     "data": {
      "text/plain": [
       "Index(['day', 'log_time', 'mobile', 'track_id', 'isrc', 'upc', 'artist_name',\n",
       "       'track_name', 'album_name', 'customer_id', 'postal_code', 'access',\n",
       "       'country_code', 'gender', 'birth_year', 'filename', 'region_code',\n",
       "       'referral_code', 'partner_name', 'financial_product',\n",
       "       'user_product_type', 'offline_timestamp', 'stream_length',\n",
       "       'stream_cached', 'stream_source', 'stream_source_uri', 'stream_device',\n",
       "       'stream_os', 'track_uri', 'track_artists', 'source'],\n",
       "      dtype='object')"
      ]
     },
     "execution_count": 20,
     "metadata": {},
     "output_type": "execute_result"
    }
   ],
   "source": [
    "half_year_data.columns"
   ]
  },
  {
   "cell_type": "code",
   "execution_count": 8,
   "metadata": {
    "collapsed": true
   },
   "outputs": [],
   "source": [
    "another_half_data=another_half_data.drop('Unnamed: 0',axis=1)"
   ]
  },
  {
   "cell_type": "code",
   "execution_count": 9,
   "metadata": {},
   "outputs": [
    {
     "data": {
      "text/plain": [
       "(15000000, 31)"
      ]
     },
     "execution_count": 9,
     "metadata": {},
     "output_type": "execute_result"
    }
   ],
   "source": [
    "another_half_data.shape"
   ]
  },
  {
   "cell_type": "code",
   "execution_count": 10,
   "metadata": {
    "collapsed": true
   },
   "outputs": [],
   "source": [
    "another_half_data = another_half_data.rename(columns=rename_dic)"
   ]
  },
  {
   "cell_type": "code",
   "execution_count": 11,
   "metadata": {},
   "outputs": [
    {
     "data": {
      "text/plain": [
       "Index(['day', 'log_time', 'mobile', 'track_id', 'isrc', 'upc', 'artist_name',\n",
       "       'track_name', 'album_name', 'customer_id', 'postal_code', 'access',\n",
       "       'country_code', 'gender', 'birth_year', 'filename', 'region_code',\n",
       "       'referral_code', 'partner_name', 'financial_product',\n",
       "       'user_product_type', 'offline_timestamp', 'stream_length',\n",
       "       'stream_cached', 'stream_source', 'stream_source_uri', 'stream_device',\n",
       "       'stream_os', 'track_uri', 'track_artists', 'source'],\n",
       "      dtype='object')"
      ]
     },
     "execution_count": 11,
     "metadata": {},
     "output_type": "execute_result"
    }
   ],
   "source": [
    "another_half_data.columns"
   ]
  },
  {
   "cell_type": "code",
   "execution_count": 30,
   "metadata": {},
   "outputs": [
    {
     "data": {
      "text/plain": [
       "Index(['day', 'log_time', 'mobile', 'track_id', 'isrc', 'upc', 'artist_name',\n",
       "       'track_name', 'album_name', 'customer_id', 'postal_code', 'access',\n",
       "       'country_code', 'gender', 'birth_year', 'filename', 'region_code',\n",
       "       'referral_code', 'partner_name', 'financial_product',\n",
       "       'user_product_type', 'offline_timestamp', 'stream_length',\n",
       "       'stream_cached', 'stream_source', 'stream_source_uri', 'stream_device',\n",
       "       'stream_os', 'track_uri', 'track_artists', 'source'],\n",
       "      dtype='object')"
      ]
     },
     "execution_count": 30,
     "metadata": {},
     "output_type": "execute_result"
    }
   ],
   "source": [
    "validation_3.columns"
   ]
  },
  {
   "cell_type": "code",
   "execution_count": 16,
   "metadata": {
    "collapsed": true
   },
   "outputs": [],
   "source": [
    "Dec_data = Dec_data.drop('Unnamed: 0',axis=1)"
   ]
  },
  {
   "cell_type": "code",
   "execution_count": 19,
   "metadata": {},
   "outputs": [
    {
     "data": {
      "text/plain": [
       "Index(['day', 'log_time', 'mobile', 'track_id', 'isrc', 'upc', 'artist_name',\n",
       "       'track_name', 'album_name', 'customer_id', 'postal_code', 'access',\n",
       "       'country_code', 'gender', 'birth_year', 'filename', 'region_code',\n",
       "       'referral_code', 'partner_name', 'financial_product',\n",
       "       'user_product_type', 'offline_timestamp', 'stream_length',\n",
       "       'stream_cached', 'stream_source', 'stream_source_uri', 'stream_device',\n",
       "       'stream_os', 'track_uri', 'track_artists', 'source'],\n",
       "      dtype='object')"
      ]
     },
     "execution_count": 19,
     "metadata": {},
     "output_type": "execute_result"
    }
   ],
   "source": [
    "Dec_data.columns"
   ]
  },
  {
   "cell_type": "code",
   "execution_count": 23,
   "metadata": {
    "collapsed": true
   },
   "outputs": [],
   "source": [
    "Dec=Dec.rename(columns=rename_dic)"
   ]
  },
  {
   "cell_type": "code",
   "execution_count": 31,
   "metadata": {
    "collapsed": true
   },
   "outputs": [],
   "source": [
    "validation_df = pd.concat([validation_1,validation_2,validation_3],axis = 0)"
   ]
  },
  {
   "cell_type": "code",
   "execution_count": 23,
   "metadata": {},
   "outputs": [
    {
     "data": {
      "text/plain": [
       "(35000000, 31)"
      ]
     },
     "execution_count": 23,
     "metadata": {},
     "output_type": "execute_result"
    }
   ],
   "source": [
    "validation_df.shape"
   ]
  },
  {
   "cell_type": "code",
   "execution_count": 24,
   "metadata": {},
   "outputs": [
    {
     "data": {
      "text/html": [
       "<div>\n",
       "<table border=\"1\" class=\"dataframe\">\n",
       "  <thead>\n",
       "    <tr style=\"text-align: right;\">\n",
       "      <th></th>\n",
       "      <th>day</th>\n",
       "      <th>log_time</th>\n",
       "      <th>mobile</th>\n",
       "      <th>track_id</th>\n",
       "      <th>isrc</th>\n",
       "      <th>upc</th>\n",
       "      <th>artist_name</th>\n",
       "      <th>track_name</th>\n",
       "      <th>album_name</th>\n",
       "      <th>customer_id</th>\n",
       "      <th>...</th>\n",
       "      <th>offline_timestamp</th>\n",
       "      <th>stream_length</th>\n",
       "      <th>stream_cached</th>\n",
       "      <th>stream_source</th>\n",
       "      <th>stream_source_uri</th>\n",
       "      <th>stream_device</th>\n",
       "      <th>stream_os</th>\n",
       "      <th>track_uri</th>\n",
       "      <th>track_artists</th>\n",
       "      <th>source</th>\n",
       "    </tr>\n",
       "  </thead>\n",
       "  <tbody>\n",
       "    <tr>\n",
       "      <th>0</th>\n",
       "      <td>2015-01-01</td>\n",
       "      <td>20150101T12:30:00</td>\n",
       "      <td>f</td>\n",
       "      <td>f8484733750744a5b04dbe401c2feee5</td>\n",
       "      <td>ATP030500084</td>\n",
       "      <td>884463049796</td>\n",
       "      <td>Johann Strauß: Das Wiener Johann Strauss Orche...</td>\n",
       "      <td>Eduard Strauss: \"Bahn frei\"</td>\n",
       "      <td>Edition 6: Künstlerleben</td>\n",
       "      <td>054f36ab705542e160aca171fccb1a66</td>\n",
       "      <td>...</td>\n",
       "      <td>NaN</td>\n",
       "      <td>30.0</td>\n",
       "      <td>NaN</td>\n",
       "      <td>collection</td>\n",
       "      <td>NaN</td>\n",
       "      <td>desktop</td>\n",
       "      <td>Windows</td>\n",
       "      <td>spotify:track:7yv7X959gZRj0XHujLgbjf</td>\n",
       "      <td>Johann Strauß: Das Wiener Johann Strauss Orche...</td>\n",
       "      <td>NaN</td>\n",
       "    </tr>\n",
       "    <tr>\n",
       "      <th>1</th>\n",
       "      <td>2015-01-01</td>\n",
       "      <td>20150101T16:15:00</td>\n",
       "      <td>t</td>\n",
       "      <td>f55e7c0db861426c9567ada2e5724b86</td>\n",
       "      <td>AUI441200125</td>\n",
       "      <td>825646410897</td>\n",
       "      <td>Hellions</td>\n",
       "      <td>The Penultimate Year</td>\n",
       "      <td>Die Young</td>\n",
       "      <td>f42197b6f03fda0c54935afc0aa0254e</td>\n",
       "      <td>...</td>\n",
       "      <td>NaN</td>\n",
       "      <td>179.0</td>\n",
       "      <td>NaN</td>\n",
       "      <td>collection</td>\n",
       "      <td>NaN</td>\n",
       "      <td>mobile</td>\n",
       "      <td>iOS</td>\n",
       "      <td>spotify:track:7t0izZUJbaPlG2H8TBIPlk</td>\n",
       "      <td>Hellions</td>\n",
       "      <td>NaN</td>\n",
       "    </tr>\n",
       "    <tr>\n",
       "      <th>2</th>\n",
       "      <td>2015-01-01</td>\n",
       "      <td>20150101T11:30:00</td>\n",
       "      <td>f</td>\n",
       "      <td>f55e7c0db861426c9567ada2e5724b86</td>\n",
       "      <td>AUI441200125</td>\n",
       "      <td>825646410897</td>\n",
       "      <td>Hellions</td>\n",
       "      <td>The Penultimate Year</td>\n",
       "      <td>Die Young</td>\n",
       "      <td>9962c5f65359b88713d633ecedefd9fe</td>\n",
       "      <td>...</td>\n",
       "      <td>NaN</td>\n",
       "      <td>179.0</td>\n",
       "      <td>NaN</td>\n",
       "      <td>collection</td>\n",
       "      <td>NaN</td>\n",
       "      <td>desktop</td>\n",
       "      <td>Windows</td>\n",
       "      <td>spotify:track:7t0izZUJbaPlG2H8TBIPlk</td>\n",
       "      <td>Hellions</td>\n",
       "      <td>NaN</td>\n",
       "    </tr>\n",
       "    <tr>\n",
       "      <th>3</th>\n",
       "      <td>2015-01-01</td>\n",
       "      <td>20150101T21:45:00</td>\n",
       "      <td>t</td>\n",
       "      <td>f55e7c0db861426c9567ada2e5724b86</td>\n",
       "      <td>AUI441200125</td>\n",
       "      <td>825646410897</td>\n",
       "      <td>Hellions</td>\n",
       "      <td>The Penultimate Year</td>\n",
       "      <td>Die Young</td>\n",
       "      <td>fcb9f329da8f415691f31854c9953baa</td>\n",
       "      <td>...</td>\n",
       "      <td>NaN</td>\n",
       "      <td>179.0</td>\n",
       "      <td>NaN</td>\n",
       "      <td>collection</td>\n",
       "      <td>NaN</td>\n",
       "      <td>mobile</td>\n",
       "      <td>Android</td>\n",
       "      <td>spotify:track:7t0izZUJbaPlG2H8TBIPlk</td>\n",
       "      <td>Hellions</td>\n",
       "      <td>NaN</td>\n",
       "    </tr>\n",
       "    <tr>\n",
       "      <th>4</th>\n",
       "      <td>2015-01-01</td>\n",
       "      <td>20150101T18:45:00</td>\n",
       "      <td>f</td>\n",
       "      <td>f55e7c0db861426c9567ada2e5724b86</td>\n",
       "      <td>AUI441200125</td>\n",
       "      <td>825646410897</td>\n",
       "      <td>Hellions</td>\n",
       "      <td>The Penultimate Year</td>\n",
       "      <td>Die Young</td>\n",
       "      <td>298fa8e732dbada2893c091877277ea0</td>\n",
       "      <td>...</td>\n",
       "      <td>NaN</td>\n",
       "      <td>179.0</td>\n",
       "      <td>NaN</td>\n",
       "      <td>collection</td>\n",
       "      <td>NaN</td>\n",
       "      <td>desktop</td>\n",
       "      <td>Mac</td>\n",
       "      <td>spotify:track:7t0izZUJbaPlG2H8TBIPlk</td>\n",
       "      <td>Hellions</td>\n",
       "      <td>NaN</td>\n",
       "    </tr>\n",
       "  </tbody>\n",
       "</table>\n",
       "<p>5 rows × 31 columns</p>\n",
       "</div>"
      ],
      "text/plain": [
       "          day           log_time mobile                          track_id  \\\n",
       "0  2015-01-01  20150101T12:30:00      f  f8484733750744a5b04dbe401c2feee5   \n",
       "1  2015-01-01  20150101T16:15:00      t  f55e7c0db861426c9567ada2e5724b86   \n",
       "2  2015-01-01  20150101T11:30:00      f  f55e7c0db861426c9567ada2e5724b86   \n",
       "3  2015-01-01  20150101T21:45:00      t  f55e7c0db861426c9567ada2e5724b86   \n",
       "4  2015-01-01  20150101T18:45:00      f  f55e7c0db861426c9567ada2e5724b86   \n",
       "\n",
       "           isrc           upc  \\\n",
       "0  ATP030500084  884463049796   \n",
       "1  AUI441200125  825646410897   \n",
       "2  AUI441200125  825646410897   \n",
       "3  AUI441200125  825646410897   \n",
       "4  AUI441200125  825646410897   \n",
       "\n",
       "                                         artist_name  \\\n",
       "0  Johann Strauß: Das Wiener Johann Strauss Orche...   \n",
       "1                                           Hellions   \n",
       "2                                           Hellions   \n",
       "3                                           Hellions   \n",
       "4                                           Hellions   \n",
       "\n",
       "                    track_name                album_name  \\\n",
       "0  Eduard Strauss: \"Bahn frei\"  Edition 6: Künstlerleben   \n",
       "1         The Penultimate Year                 Die Young   \n",
       "2         The Penultimate Year                 Die Young   \n",
       "3         The Penultimate Year                 Die Young   \n",
       "4         The Penultimate Year                 Die Young   \n",
       "\n",
       "                        customer_id  ...   offline_timestamp stream_length  \\\n",
       "0  054f36ab705542e160aca171fccb1a66  ...                 NaN          30.0   \n",
       "1  f42197b6f03fda0c54935afc0aa0254e  ...                 NaN         179.0   \n",
       "2  9962c5f65359b88713d633ecedefd9fe  ...                 NaN         179.0   \n",
       "3  fcb9f329da8f415691f31854c9953baa  ...                 NaN         179.0   \n",
       "4  298fa8e732dbada2893c091877277ea0  ...                 NaN         179.0   \n",
       "\n",
       "  stream_cached stream_source stream_source_uri stream_device stream_os  \\\n",
       "0           NaN    collection               NaN       desktop   Windows   \n",
       "1           NaN    collection               NaN        mobile       iOS   \n",
       "2           NaN    collection               NaN       desktop   Windows   \n",
       "3           NaN    collection               NaN        mobile   Android   \n",
       "4           NaN    collection               NaN       desktop       Mac   \n",
       "\n",
       "                              track_uri  \\\n",
       "0  spotify:track:7yv7X959gZRj0XHujLgbjf   \n",
       "1  spotify:track:7t0izZUJbaPlG2H8TBIPlk   \n",
       "2  spotify:track:7t0izZUJbaPlG2H8TBIPlk   \n",
       "3  spotify:track:7t0izZUJbaPlG2H8TBIPlk   \n",
       "4  spotify:track:7t0izZUJbaPlG2H8TBIPlk   \n",
       "\n",
       "                                       track_artists source  \n",
       "0  Johann Strauß: Das Wiener Johann Strauss Orche...    NaN  \n",
       "1                                           Hellions    NaN  \n",
       "2                                           Hellions    NaN  \n",
       "3                                           Hellions    NaN  \n",
       "4                                           Hellions    NaN  \n",
       "\n",
       "[5 rows x 31 columns]"
      ]
     },
     "execution_count": 24,
     "metadata": {},
     "output_type": "execute_result"
    }
   ],
   "source": [
    "train_df.head(5)"
   ]
  },
  {
   "cell_type": "code",
   "execution_count": 32,
   "metadata": {
    "collapsed": true
   },
   "outputs": [],
   "source": [
    "validation_df.to_csv('validation_df.csv')"
   ]
  },
  {
   "cell_type": "code",
   "execution_count": null,
   "metadata": {
    "collapsed": true
   },
   "outputs": [],
   "source": []
  }
 ],
 "metadata": {
  "kernelspec": {
   "display_name": "Python 3",
   "language": "python",
   "name": "python3"
  },
  "language_info": {
   "codemirror_mode": {
    "name": "ipython",
    "version": 3
   },
   "file_extension": ".py",
   "mimetype": "text/x-python",
   "name": "python",
   "nbconvert_exporter": "python",
   "pygments_lexer": "ipython3",
   "version": "3.6.1"
  }
 },
 "nbformat": 4,
 "nbformat_minor": 2
}
